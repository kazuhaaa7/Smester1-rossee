{
 "cells": [
  {
   "cell_type": "code",
   "execution_count": 10,
   "id": "ac8a048c",
   "metadata": {},
   "outputs": [
    {
     "name": "stdout",
     "output_type": "stream",
     "text": [
      "30\n"
     ]
    }
   ],
   "source": [
    "\n",
    "numbers = [1, 2, 3, 4, 5]\n",
    "result = 0\n",
    "\n",
    "# Convert map to list atau gunakan loop\n",
    "mapped_numbers = map(lambda x: x * 2, numbers)\n",
    "for num in mapped_numbers:\n",
    "    result += num\n",
    "\n",
    "print(result)  # Output: 30"
   ]
  },
  {
   "cell_type": "code",
   "execution_count": 67,
   "id": "ce465729",
   "metadata": {},
   "outputs": [
    {
     "name": "stdout",
     "output_type": "stream",
     "text": [
      "rahasia - SANGAT LEMAH\n",
      "Admin123 - SEDANG\n",
      "p4ssw0rd! - KUAT\n",
      "ADMIN - SANGAT LEMAH\n",
      "['SANGAT LEMAH', 'SEDANG', 'KUAT', 'SANGAT LEMAH']\n",
      "Kuat: 1 \n",
      "Sedang: 1 \n",
      "Lemah: 0 \n",
      "Sangat Lemah: 2 \n"
     ]
    }
   ],
   "source": [
    "kataSandi = ['rahasia', 'Admin123', 'p4ssw0rd!', 'ADMIN']\n",
    "hasil_penilaian = []\n",
    "for inputKatasandi  in kataSandi:\n",
    "    # jadi dia bakal looping selama yg di var onputkatasandi masih ada di katasandi \n",
    "    mypoin = 0\n",
    "\n",
    "# knp aku bikin if banyak kali? \n",
    "# Karena kamu pakai elif, maka hanya satu kondisi pertama yang benar akan dijalankan.\n",
    "# Padahal kamu ingin semua kondisi dicek (huruf besar, kecil, angka, dll).\n",
    "# Jadi harusnya pakai if semua, bukan elif.\n",
    "    if len(inputKatasandi) >= 8:\n",
    "        mypoin += 2\n",
    "\n",
    "    if any(char.isupper() for char in inputKatasandi):\n",
    "        mypoin += 1\n",
    "\n",
    "    if any(char.islower() for char in inputKatasandi):\n",
    "        mypoin += 1\n",
    "\n",
    "    if any(char.isdigit() for char in inputKatasandi):\n",
    "        mypoin += 1\n",
    "\n",
    "    if any(not char.isalnum() for char in inputKatasandi):\n",
    "        mypoin += 2\n",
    "\n",
    "\n",
    "    if mypoin >=6 :\n",
    "        kategori = \"KUAT\"\n",
    "    elif mypoin >=4 :\n",
    "        kategori = \"SEDANG\"\n",
    "    elif mypoin >=2 :\n",
    "        kategori = \"LEMAH\"\n",
    "    else:\n",
    "        kategori = \"SANGAT LEMAH\"\n",
    "\n",
    "    print(inputKatasandi, \"-\", kategori,)\n",
    "\n",
    "# simpan ke dict baru\n",
    "    # hasil_penilaian.append({\n",
    "    #     'kataSandi': inputKatasandi,\n",
    "    #     'kategori': kategori,\n",
    "    #     'skor': mypoin\n",
    "    # })\n",
    "    # for hasil in hasil_penilaian:\n",
    "    #     # print(hasil['kategori'], \":\",hasil['skor'] )\n",
    "    hasil_penilaian.append(kategori)\n",
    "print(hasil_penilaian)\n",
    "print(f\"Kuat: {hasil_penilaian.count('KUAT')} \")\n",
    "print(f\"Sedang: {hasil_penilaian.count('SEDANG')} \")\n",
    "print(f\"Lemah: {hasil_penilaian.count('LEMAH')} \")\n",
    "print(f\"Sangat Lemah: {hasil_penilaian.count('SANGAT LEMAH')} \")"
   ]
  },
  {
   "cell_type": "code",
   "execution_count": 19,
   "id": "cc077c96",
   "metadata": {},
   "outputs": [
    {
     "name": "stdout",
     "output_type": "stream",
     "text": [
      "Total belanja : 35000.5\n"
     ]
    }
   ],
   "source": [
    "ntotal = 0\n",
    "harga = [12000, 8000.5, 15000]\n",
    "while True:\n",
    "    for i in range(4):\n",
    "        i += 1\n",
    "    hargatotal = sum(harga)\n",
    "    print(\"Total belanja :\", float(hargatotal))\n",
    "    break"
   ]
  },
  {
   "cell_type": "code",
   "execution_count": null,
   "id": "108b3ade",
   "metadata": {},
   "outputs": [
    {
     "name": "stdout",
     "output_type": "stream",
     "text": [
      "3\n",
      "0\n"
     ]
    }
   ],
   "source": [
    "n = 4\n",
    "hai = [\"bcdef\", \"bcdef\",\"abcdefg\",\"bcde\"]\n",
    "final = None\n",
    "for i in range(1, n):\n",
    "    # final.append(i)\n",
    "    # ha2 = hai.count(i)\n",
    "    final = set(hai)\n",
    "\n",
    "\n",
    "\n",
    "print(i)\n",
    "print(hai.count(i))"
   ]
  },
  {
   "cell_type": "code",
   "execution_count": 36,
   "id": "f8ccef1b",
   "metadata": {},
   "outputs": [
    {
     "name": "stdout",
     "output_type": "stream",
     "text": [
      "['bcdef', 'bcdef', 'abcdefg', 'bcde']\n",
      "[['bcdef', 'bcdef', 'abcdefg', 'bcde'], ['bcdef', 'bcdef', 'abcdefg', 'bcde'], ['bcdef', 'bcdef', 'abcdefg', 'bcde']]\n"
     ]
    }
   ],
   "source": [
    "n = 4\n",
    "hai = [\"bcdef\", \"bcdef\",\"abcdefg\",\"bcde\"]\n",
    "final = []\n",
    "for i in set(hai):\n",
    "    hai.count(i)\n",
    "    final.append(hai)\n",
    "    # perbedaan sorted dan sort\n",
    "\n",
    "print(hai)\n",
    "print(final)"
   ]
  },
  {
   "cell_type": "code",
   "execution_count": null,
   "id": "49b9b683",
   "metadata": {},
   "outputs": [
    {
     "name": "stdout",
     "output_type": "stream",
     "text": [
      "RotiNaga\n",
      "RotiNaga\n"
     ]
    }
   ],
   "source": [
    "# daftar = ['RotiNaga', 'SupElf', 'RotiNaga', 'SupElf', 'RotiNaga', 'JusPhoenix']\n",
    "# \"bcdef\", \"bcdef\",\"abcdefg\",\"bcde\"\n",
    "# palingMenu = \"\"\n",
    "# jumlahTerbanyak = 0 \n",
    "\n",
    "# for item in set(daftar): \n",
    "#     if daftar.count(item) > jumlahTerbanyak:\n",
    "#         jumlahTerbanyak = daftar.count(item)\n",
    "#         palingMenu = item\n",
    "#         print(item)\n",
    "\n",
    "# print(palingMenu)"
   ]
  },
  {
   "cell_type": "code",
   "execution_count": null,
   "id": "1615c432",
   "metadata": {},
   "outputs": [
    {
     "ename": "AttributeError",
     "evalue": "'set' object has no attribute 'sort'",
     "output_type": "error",
     "traceback": [
      "\u001b[31m---------------------------------------------------------------------------\u001b[39m",
      "\u001b[31mAttributeError\u001b[39m                            Traceback (most recent call last)",
      "\u001b[36mCell\u001b[39m\u001b[36m \u001b[39m\u001b[32mIn[4]\u001b[39m\u001b[32m, line 10\u001b[39m\n\u001b[32m      8\u001b[39m     char = [\u001b[38;5;28mchr\u001b[39m(x) \u001b[38;5;28;01mfor\u001b[39;00m x \u001b[38;5;129;01min\u001b[39;00m ascii]\n\u001b[32m      9\u001b[39m     unik = \u001b[38;5;28mset\u001b[39m(char)\n\u001b[32m---> \u001b[39m\u001b[32m10\u001b[39m     \u001b[43munik\u001b[49m\u001b[43m.\u001b[49m\u001b[43msort\u001b[49m(unik)\n\u001b[32m     11\u001b[39m     \u001b[38;5;66;03m# perbedaan sorted dan sort\u001b[39;00m\n\u001b[32m     13\u001b[39m \u001b[38;5;28mprint\u001b[39m(\u001b[33m\"\u001b[39m\u001b[33m\"\u001b[39m.join(unik))\n",
      "\u001b[31mAttributeError\u001b[39m: 'set' object has no attribute 'sort'"
     ]
    }
   ],
   "source": [
    "# # no 3// perbedaan sort dan sorted lalu beri list yg berisi indeks\n",
    "# n = int(input(\"banyak kata yg akan ditulis oggy\"))\n",
    "# hai = []\n",
    "# for i in range(1, n + 1):\n",
    "#     kata = input(\"masukkan kata apa aja\").lower()\n",
    "#     hai.append(kata)\n",
    "#     ascii = [ord(i) for i in kata]\n",
    "#     char = [chr(x) for x in ascii]\n",
    "#     unik = set(char)\n",
    "#     loh = sorted(unik)\n",
    "#     # perbedaan sorted dan sort\n",
    "\n",
    "# print(\"\".join(loh))\n",
    "# print(\",\".join(hai))\n"
   ]
  },
  {
   "cell_type": "markdown",
   "id": "fbc0f6b7",
   "metadata": {},
   "source": [
    "<h1> Materi Pertemuan 9 dan 10 </h1>\n",
    "<h3> file handling -- untuk txt aja </h3\n",
    ">"
   ]
  },
  {
   "cell_type": "code",
   "execution_count": null,
   "id": "8310ef6b",
   "metadata": {},
   "outputs": [],
   "source": [
    "# # fileku = open(\"/Users/ADVAN/Desktop/Smester 1/file.txt\")\n",
    "# # fileku.read(), output: isi dari file(.txt) yg akan dilihat\n",
    "\n",
    "# ## untuk mencetak stiap baris\n",
    "# # print(\"Baris 1: \", fileku.readline)\n",
    "# # print(\"Baris 2: \", fileku.readline)\n",
    "\n",
    "# ##untuk membaca perbaris keseluruhan dgn bentuk list\n",
    "# # isifile = fileku.readlines()\n",
    "\n",
    "# # nomer = 1\n",
    "# # for i in isifile:\n",
    "# #     print(f\"Nomor ke- {nomer}\", i)\n",
    "# #     nomer+=1\n",
    "\n",
    "# ## membuat file txt baru(kosong)\n",
    "# # fileku = open(\"/Users/ADVAN/Desktop/Smester 1/file2.txt\", 'w')\n",
    "# # fileku.close()\n",
    "\n",
    "# # ## membuat file txt baru(tdk kosong)\n",
    "# # fileku = open(\"/Users/ADVAN/Desktop/Smester 1/file3.txt\", 'w')\n",
    "# # isi = \"first impression: dia wangi dan aku suka wanginya dia, pasti setiap dia lewat bikin aku ngucap gini 'hmm, ini anak kok wangi bgt ya' \"\n",
    "# # fileku.write(isi)\n",
    "# # fileku.close()\n",
    "\n",
    "# # # coba mau nampilin file3.txt\n",
    "# # fileku = open(\"/Users/ADVAN/Desktop/Smester 1/file3.txt\", 'r')\n",
    "# # fileku.read()\n",
    "\n",
    "# # # membuat file txt baru(tdk kosong)\n",
    "# # fileku = open(\"/Users/ADVAN/Desktop/Smester 1/file3.txt\", 'w')\n",
    "# # isi = \"first impression: dia wangi dan aku suka wanginya dia, pasti setiap dia lewat bikin aku ngucap gini 'hmm, ini anak kok wangi bgt ya' \"\n",
    "# # fileku.write(isi)\n",
    "# # isi2 = \"\\n Semangat ya, aku tau rasanya jadi anak rantau soal e pernah rantau juga di sby waktu...\"\n",
    "# # fileku.write(isi2)\n",
    "# # fileku.close()\n",
    "\n",
    "# # # membuat file txt baru(tdk kosong) + menulis teks dari beberpa variabel list ke sebuah teks\n",
    "# # fileku = open(\"/Users/ADVAN/Desktop/Smester 1/file4.txt\", 'w')\n",
    "# # isi = \"first impression: dia wangi \\n dan aku suka wanginya dia,\\n pasti setiap dia lewat bikin aku ngucap gini \\n 'hmm, ini anak kok wangi bgt ya' \"\n",
    "# # fileku.writelines(isi)\n",
    "# # fileku.close()\n",
    "\n",
    "# # # menambah isi list, lanjutan yg atas\n",
    "# fileku = open(\"/Users/ADVAN/Desktop/Smester 1/file4.txt\", 'a')\n",
    "# fileisi = \"\\n Cinta memang tak selamanya bisa indah \\n Cinta juga bisa berubah menjadi sakit\\n  Begitu yang 'ku rasakan kini \\n Perih hatiku tinggal kehancuran\"\n",
    "# fileku.write(fileisi)\n",
    "# fileku.close()\n",
    "\n",
    "# # # mengahapus file\n",
    "# import os\n",
    "# os.remove(\"/Users/ADVAN/Desktop/Smester 1/file4.txt\")"
   ]
  },
  {
   "cell_type": "markdown",
   "id": "5affea58",
   "metadata": {},
   "source": [
    "<h3>Tugas: Menyisipkan teks pada File Txt </h3\n",
    ">"
   ]
  },
  {
   "cell_type": "code",
   "execution_count": null,
   "id": "bd03ad17",
   "metadata": {},
   "outputs": [
    {
     "name": "stdout",
     "output_type": "stream",
     "text": [
      "folder ke -1:  .git\n",
      "file ke- 1:  A_252410101098_Muhammad_Hasby_Prima_Abdillah_PR03.py\n",
      "file ke- 2:  file.txt\n",
      "file ke- 3:  file2.txt\n",
      "file ke- 4:  file3.txt\n",
      "file ke- 5:  file4.txt\n",
      "folder ke -2:  Smester1-rossee\n"
     ]
    }
   ],
   "source": [
    "# # # \n",
    "# # myfile = open(\"/Users/ADVAN/Desktop/Smester 1/file4.txt\", 'w')\n",
    "# # fileisi = [\"Cinta memang tak selamanya bisa indah\",\" \\n Cinta juga bisa berubah menjadi sakit\", \"\\n  Begitu yang 'ku rasakan kini\", \"\\n Perih hatiku tinggal kehancuran\"]\n",
    "# # myfile.writelines(fileisi)\n",
    "# # myfile.close()\n",
    "# # # klo ga ada.cloe() ga bakalan keluar, klo mau tambahin teks\n",
    "\n",
    "# # # #2. insert teks ke dalam file teks\n",
    "# # myfile = open(\"/Users/ADVAN/Desktop/Smester 1/file4.txt\") \n",
    "# # fileisi = myfile.readlines()\n",
    "\n",
    "# # myfile =  open(\"/Users/ADVAN/Desktop/Smester 1/file4.txt\", \"w\")\n",
    "# # fileisi.insert(2, \"Eaaaa \\n\")\n",
    "# # myfile.writelines(fileisi)\n",
    "# # myfile.close()\n",
    "\n",
    "# # #menampilkan current working directory\n",
    "# # import os\n",
    "\n",
    "# # dir = os.getcwd()\n",
    "# # print(\"Direct saat ini; \", dir)\n",
    "\n",
    "# # #menampilkan direktori dari file yg sedang dieksekusi\n",
    "# # import os\n",
    "# # dir = os.path.realpath(\"example.ipynb\")\n",
    "# # print(\"Lokasi saat ini: \", dir)\n",
    "\n",
    "# # #menampilkan isi sebuah directori\n",
    "# # import os\n",
    "# # myfile = (\"/Users/ADVAN/Desktop/Smester 1\")\n",
    "# # fileisi = os.listdir(myfile)\n",
    "# # print(\"isi direct: \", fileisi)\n",
    "\n",
    "# # #mengecek/memastikan file atau bukan\n",
    "# # import os\n",
    "# # myfile = (\"/Users/ADVAN/Desktop/Smester 1\")\n",
    "# # file1 = \"/file4.txt\"\n",
    "# # fileisi = os.path.isfile(myfile+file1)\n",
    "# # print(\"cek apakah file:\", fileisi)\n",
    "# # file2 = \"/pkb\"\n",
    "# # fileisi2 = os.path.isfile(myfile+file2)\n",
    "# # print(\"cek apakah file:\", fileisi2)\n",
    "\n",
    "# # # latihan menampilkan smw nama file dlm sebuah direktori:\n",
    "# import os\n",
    "\n",
    "# watashinoFile = (\"/Users/ADVAN/Desktop/Smester 1\")\n",
    "# isfile = os.listdir(watashinoFile)\n",
    "\n",
    "# nomerfile = 1\n",
    "# nomerfolder = 1\n",
    "\n",
    "# for i in isfile:\n",
    "#     if(os.path.isfile(watashinoFile+ \"/\" + i) == True):\n",
    "#         print(f\"file ke- {nomerfile}: \", i)\n",
    "#         nomerfile+= 1\n",
    "#     else:\n",
    "#         print(f\"folder ke -{nomerfolder}: \", i)\n",
    "#         nomerfolder+=1\n",
    "\n",
    "\n"
   ]
  },
  {
   "cell_type": "markdown",
   "id": "97069200",
   "metadata": {},
   "source": [
    "<h1> pengecekan tugas </h1>"
   ]
  },
  {
   "cell_type": "code",
   "execution_count": null,
   "id": "8d47e11b",
   "metadata": {},
   "outputs": [
    {
     "ename": "SyntaxError",
     "evalue": "cannot assign to function call here. Maybe you meant '==' instead of '='? (3367737388.py, line 13)",
     "output_type": "error",
     "traceback": [
      "  \u001b[36mCell\u001b[39m\u001b[36m \u001b[39m\u001b[32mIn[11]\u001b[39m\u001b[32m, line 13\u001b[39m\n\u001b[31m    \u001b[39m\u001b[31mProdukDipilih.title()  = input(\"Produk yang dipilih tidak ada! Masukkan produk yang ingin dibeli : \")\u001b[39m\n    ^\n\u001b[31mSyntaxError\u001b[39m\u001b[31m:\u001b[39m cannot assign to function call here. Maybe you meant '==' instead of '='?\n"
     ]
    }
   ],
   "source": [
    "# produk = {\n",
    "#     \"Iphone 20\": 20000,\n",
    "#     \"Macbook Air M4\": 40000,\n",
    "#     \"Sosis Kanzler\": 35000\n",
    "# }\n",
    "\n",
    "# ProdukDipilih = input(\"Masukkan nama produk yang ingin dibeli : \").title()\n",
    "# Subtotal = 0\n",
    "# OngkirTetap = 10000\n",
    "\n",
    "# # Validasi produk\n",
    "# while ProdukDipilih.title()  != \"Iphone 20\" and ProdukDipilih != \"Macbook Air M4\" and ProdukDipilih != \"Sosis Kanzler\":\n",
    "#     ProdukDipilih.title()  = input(\"Produk yang dipilih tidak ada! Masukkan produk yang ingin dibeli : \")\n",
    "\n",
    "# print(\"==== STRUK BELANJA ====\")\n",
    "\n",
    "# while ProdukDipilih.title()  == \"Iphone 20\" or ProdukDipilih == \"Macbook Air M4\" or ProdukDipilih == \"Sosis Kanzler\":\n",
    "#     JumlahProduk = int(input(\"Masukkan jumlah yang ingin dibeli : \"))\n",
    "#     HargaProduk = produk[ProdukDipilih]\n",
    "#     print(f\"{ProdukDipilih} x {JumlahProduk} : Rp {HargaProduk * JumlahProduk}\")\n",
    "#     Subtotal += HargaProduk * JumlahProduk\n",
    "\n",
    "#     PilihLagi = input(\"Apakah ada yang lain? (Y/N): \")\n",
    "\n",
    "#     if PilihLagi.lower() == \"y\":\n",
    "#         ProdukDipilih = input(\"Masukkan nama produk yang ingin dibeli : \")\n",
    "\n",
    "#         while ProdukDipilih.title() != \"Iphone 20\" and ProdukDipilih != \"Macbook Air M4\" and ProdukDipilih != \"Sosis Kanzler\":\n",
    "#             ProdukDipilih.title() = input(\"Produk yang dipilih tidak ada! Masukkan produk yang ingin dibeli : \")\n",
    "#     else:\n",
    "#         break\n",
    "\n",
    "# PPN = Subtotal * (12 / 100)\n",
    "# TotalBayar = Subtotal + PPN + OngkirTetap\n",
    "\n",
    "# print()\n",
    "# print(f\"Subtotal     : Rp {Subtotal}\")\n",
    "# print(f\"PPN 12%      : Rp {PPN}\")\n",
    "# print(f\"Ongkir tetap : Rp {OngkirTetap}\")\n",
    "# print(f\"Total Bayar  : Rp {TotalBayar}\")\n",
    "# print(\"\\nTERIMA KASIH TELAH BERBELANJA DI TOKO KHOLISH!\")\n"
   ]
  },
  {
   "cell_type": "code",
   "execution_count": null,
   "id": "5dcd1ec4",
   "metadata": {},
   "outputs": [
    {
     "name": "stdout",
     "output_type": "stream",
     "text": [
      "=== Selamat Datang di Kholis Shop ===\n",
      "- Iphone 20: Rp20,000\n",
      "- Macbook Air M4: Rp40,000\n",
      "- Sosis Kanzler: Rp35,000\n",
      "Sosis Kanzler X 3 : Rp. 105000 \n",
      "Iphone 20 X 2 : Rp. 40000 \n",
      "\n",
      " ===== STRUK PEMBALIAN =====\n",
      "Sosis Kanzler x 2 : Rp.105000\n",
      "Iphone 20 x 2 : Rp.70000\n",
      "\n",
      "\n",
      "subtotal : Rp. 175000\n",
      "ppn : Rp.21000\n",
      "biaya ongkir : Rp. 10000\n",
      "total keseluruhan : Rp.206000\n",
      "\n",
      "TERIMA KASIH SUDAH DATANG\n",
      "\n"
     ]
    },
    {
     "ename": "",
     "evalue": "",
     "output_type": "error",
     "traceback": [
      "\u001b[1;31mnotebook controller is DISPOSED. \n",
      "\u001b[1;31mView Jupyter <a href='command:jupyter.viewOutput'>log</a> for further details."
     ]
    }
   ],
   "source": [
    "# # program 1: Kholish - Owner KholishShop Kholish - Owner KholishShop \n",
    "\n",
    "# # ===========================\n",
    "# # PROGRAM ONLINE SHOP KHOLIF\n",
    "# # ===========================\n",
    "\n",
    "\n",
    "# # Daftar produk dan harga\n",
    "# produk = { \n",
    "# \"Iphone 20\": 20000, \n",
    "# \"Macbook Air M4\": 40000, \n",
    "# \"Sosis Kanzler\": 35000 \n",
    "# }\n",
    "# print(\"=== Selamat Datang di Kholis Shop ===\")\n",
    "# for nama, harga in produk.items():\n",
    "#     print(f\"- {nama}: Rp{harga:,}\")\n",
    "\n",
    "# keranjang = [] #list kosong \n",
    "# subtotal = 0\n",
    "# ongir = 10000\n",
    "\n",
    "\n",
    "# # input barang\n",
    "# while True:\n",
    "#     inptprodyk = input(\"Entry barang yg kamu mau: \").title()\n",
    "#     # inptprodyk = input(\"pilih barang yg ingin anda beli: \")\n",
    "\n",
    "# # penambahan nominal\n",
    "\n",
    "#     while inptprodyk not in produk:\n",
    "#         print(\"Barang yg kamu inginkan tidak tersedia. Perhatikan barang yang tersedia, lalu pilih barang yg ingin anda beli: \")\n",
    "\n",
    "#     jumlahp = int(input(\"Masukkan jumlah yg anda inginkan: \"))\n",
    "#     hargap = produk[inptprodyk]\n",
    "#     print(f\"{inptprodyk} X {jumlahp} : Rp. {hargap * jumlahp} \")\n",
    "#     total = harga * jumlahp\n",
    "#     subtotal += total\n",
    "#     keranjang.append((inptprodyk, jumlahp, total))\n",
    "\n",
    "#     choiceagain = input(\"Apa ada baraag yg ingin dibeli lagi? y/t\").lower()\n",
    "\n",
    "#     if choiceagain != \"y\":\n",
    "#         break\n",
    "\n",
    "\n",
    "\n",
    "# ppn = int(subtotal * 0.12)\n",
    "# totalakhir = subtotal + ppn+ ongir\n",
    "\n",
    "# print(\"\\n\", \"=\" * 5 ,\"STRUK PEMBALIAN\", \"=\" * 5)\n",
    "# for nama, jumlah, total in keranjang:\n",
    "#     print(f\"{nama} x {jumlahp} : Rp.{total}\")\n",
    "\n",
    "# print()\n",
    "# print(f\"\"\"\n",
    "# subtotal : Rp. {subtotal}\n",
    "# ppn : Rp.{ppn}\n",
    "# biaya ongkir : Rp. {ongir}\n",
    "# total keseluruhan : Rp.{totalakhir}\n",
    "\n",
    "# TERIMA KASIH SUDAH DATANG\n",
    "# \"\"\")"
   ]
  },
  {
   "cell_type": "markdown",
   "id": "efd65b74",
   "metadata": {},
   "source": []
  },
  {
   "cell_type": "code",
   "execution_count": null,
   "id": "811b1688",
   "metadata": {},
   "outputs": [
    {
     "name": "stdout",
     "output_type": "stream",
     "text": [
      "=== Selamat Datang di Kholis Shop ===\n",
      "- Iphone 20: Rp20,000\n",
      "- Macbook Air M4: Rp40,000\n",
      "- Sosis Kanzler: Rp35,000\n",
      "\n",
      "STRUK PEMBELIAN\n",
      "Sosis Kanzler x3: Rp105000\n",
      "Iphone 20 x2: Rp40000\n",
      "\n",
      "Subtotal       : Rp145000\n",
      "PPN (12%)      : Rp17400\n",
      "Ongkir         : Rp10000\n",
      "--------------------------\n",
      "Total Akhir    : Rp172400\n",
      "\n",
      "TERIMA KASIH SUDAH DATANG\n",
      "\n"
     ]
    },
    {
     "ename": "",
     "evalue": "",
     "output_type": "error",
     "traceback": [
      "\u001b[1;31mnotebook controller is DISPOSED. \n",
      "\u001b[1;31mView Jupyter <a href='command:jupyter.viewOutput'>log</a> for further details."
     ]
    }
   ],
   "source": [
    "\n",
    "# # PROGRAM ONLINE SHOP KHOLIF\n",
    "\n",
    "\n",
    "# produk = { \n",
    "#     \"Iphone 20\": 20000, \n",
    "#     \"Macbook Air M4\": 40000, \n",
    "#     \"Sosis Kanzler\": 35000 \n",
    "# }\n",
    "\n",
    "# print(\"=== Selamat Datang di Kholis Shop ===\")\n",
    "# for nama, harga in produk.items():\n",
    "#     print(f\"- {nama}: Rp{harga:,}\")\n",
    "\n",
    "# keranjang = [] \n",
    "# subtotal = 0\n",
    "# ongir = 10000\n",
    "\n",
    "# while True:\n",
    "#     inptprodyk = input(\"Entry barang yg kamu mau: \").title()\n",
    "\n",
    "#     # validasi barang\n",
    "#     while inptprodyk not in produk:\n",
    "#         inptprodyk = input(\"Barang yg kamu inginkan tidak tersedia. Pilih barang yg tersedia: \").title()\n",
    "\n",
    "#     jumlahp = int(input(\"Masukkan jumlah yg anda inginkan: \"))\n",
    "#     hargap = produk[inptprodyk]\n",
    "#     total = hargap * jumlahp\n",
    "#     subtotal += total\n",
    "#     keranjang.append((inptprodyk, jumlahp, total))\n",
    "\n",
    "#     choiceagain = input(\"Apa ada barang yg ingin dibeli lagi? [y/t]: \").lower()\n",
    "#     if choiceagain != \"y\":\n",
    "#         break\n",
    "\n",
    "# # hitung total\n",
    "# ppn = int(subtotal * 0.12)\n",
    "# totalakhir = subtotal + ppn + ongir\n",
    "\n",
    "# # tampilkan struk\n",
    "# print(\"\\nSTRUK PEMBELIAN\")\n",
    "# for nama, jml, tot in keranjang:\n",
    "#     print(f\"{nama} x{jml}: Rp{tot}\")\n",
    "\n",
    "# print(f\"\"\"\n",
    "# Subtotal       : Rp{subtotal}\n",
    "# PPN (12%)      : Rp{ppn}\n",
    "# Ongkir         : Rp{ongir}\n",
    "# --------------------------\n",
    "# Total Akhir    : Rp{totalakhir}\n",
    "\n",
    "# Terima kasih telah berbelanja di toko Kholish!\n",
    "# \"\"\")\n"
   ]
  },
  {
   "cell_type": "code",
   "execution_count": null,
   "id": "13ddce27",
   "metadata": {},
   "outputs": [
    {
     "name": "stdout",
     "output_type": "stream",
     "text": [
      "=== Selamat Datang di Kholis Shop ===\n",
      "- Iphone 20: Rp20,000\n",
      "- Sosis Kanzler: Rp35,000\n",
      "- Macbook Air M4: Rp40,000\n",
      "\n",
      " ====== STRUK PEMBELIAN ======\n",
      "Sosis Kanzler x2: Rp70000\n",
      "\n",
      "--------------------------\n",
      "Subtotal       : Rp70000\n",
      "PPN (12%)      : Rp8400\n",
      "Ongkir         : Rp10000\n",
      "--------------------------\n",
      "Total Akhir    : Rp88400\n",
      "\n",
      "Terima kasih telah berbelanja di toko Kholish!\n",
      "\n"
     ]
    }
   ],
   "source": [
    "# produk = { \n",
    "#     \"Iphone 20\": 20000, \n",
    "#     \"Sosis Kanzler\": 35000,\n",
    "#     \"Macbook Air M4\": 40000, \n",
    "# }\n",
    "\n",
    "# print(\"=== Selamat Datang di Kholis Shop ===\")\n",
    "# for nama, harga in produk.items():\n",
    "#     print(f\"- {nama}: Rp{harga:,}\")\n",
    "\n",
    "# keranjang = [] \n",
    "# subtotal = 0 \n",
    "# ongir = 10000 \n",
    "\n",
    "# while True:\n",
    "#     inptprodyk = input(\"masukkan nama barang yg kamu ingin beli: \").title()\n",
    "\n",
    "#     # validasi barang, nested loop\n",
    "#     while inptprodyk not in produk:\n",
    "#         inptprodyk = input(\"Barang yg kamu inginkan tidak tersedia. Pilih barang yg tersedia: \").title()\n",
    "\n",
    "#     jumlahp = int(input(\"Masukkan jumlah yg anda inginkan: \"))\n",
    "#     hargap = produk[inptprodyk] \n",
    "#     total = hargap * jumlahp \n",
    "#     subtotal = subtotal + total \n",
    "#     # subtotal += total\n",
    "#     # .append(), untuk menambahkan sebuah value yg ditempatkan di indeks akhir\n",
    "#     keranjang.append((inptprodyk, jumlahp, total))\n",
    "\n",
    "#     choiceagain = input(\"Apa ada barang yg ingin dibeli lagi? [y/t]: \").lower()\n",
    "#     if choiceagain != \"y\":\n",
    "#         break\n",
    "\n",
    "# # hitung total\n",
    "# ppn = int(subtotal * 0.12)\n",
    "# totalakhir = subtotal + ppn + ongir\n",
    "\n",
    "# # tampilkan struk\n",
    "# print(\"\\n\", \"=\" * 6, \"STRUK PEMBELIAN\", \"=\" * 6)\n",
    "# for nama, jml, tot in keranjang:\n",
    "#     print(f\"{nama} x{jml}: Rp{tot}\")\n",
    "\n",
    "# print(f\"\"\"\n",
    "# --------------------------\n",
    "# Subtotal       : Rp{subtotal}\n",
    "# PPN (12%)      : Rp{ppn}\n",
    "# Ongkir         : Rp{ongir}\n",
    "# --------------------------\n",
    "# Total Akhir    : Rp{totalakhir}\n",
    "\n",
    "# Terima kasih telah berbelanja di toko Kholish!\n",
    "# \"\"\")"
   ]
  },
  {
   "cell_type": "markdown",
   "id": "7e9d823e",
   "metadata": {},
   "source": [
    "<h3>NO 2 </h3>"
   ]
  },
  {
   "cell_type": "code",
   "execution_count": null,
   "id": "57d3bd9c",
   "metadata": {},
   "outputs": [
    {
     "name": "stdout",
     "output_type": "stream",
     "text": [
      "program akan berhenti dan mentotal tabungan kamu\n",
      "[5000, 12000]\n"
     ]
    }
   ],
   "source": [
    "# daftar = int(input(\"Masukkan nominal yg akan ditabung: \"))\n",
    "\n",
    "# nominal = []\n",
    "# sumnom = 0\n",
    "# nominal.append(daftar)\n",
    "\n",
    "# sumnom += daftar\n",
    "\n",
    "# while True:\n",
    "#     ask = input(\"Apakah kamu ingin nabung lagi? [Y]/[T]\").upper()\n",
    "#     if ask == \"Y\":\n",
    "#         daftar = int(input(\"Masukkan lagi nominal yg akan ditabung: \"))\n",
    "#     else:\n",
    "#         print(\"program akan berhenti dan mentotal tabungan kamu\")\n",
    "#         break\n",
    "#     sumnom += daftar\n",
    "#     nominal.append(sumnom)\n",
    "\n",
    "# print(nominal)"
   ]
  },
  {
   "cell_type": "markdown",
   "id": "5487c62f",
   "metadata": {},
   "source": [
    "<h3> Soal 3 </h3>"
   ]
  },
  {
   "cell_type": "code",
   "execution_count": null,
   "id": "20e482c3",
   "metadata": {},
   "outputs": [
    {
     "name": "stdout",
     "output_type": "stream",
     "text": [
      "======== PROGRAM SISTEM NILAI RAPOR ========\n",
      "Masukkan jumla siswa: 2 \n",
      "\n",
      "Masukkan data ke-1\n",
      "Nama: oci\n",
      "Mapel MTK: 67\n",
      "Mapel FISIKA: 67\n",
      "Mapel KIMIA: 67\n",
      "Mapel BIOLOGI: 67\n",
      "\n",
      "\n",
      "Masukkan data ke-2\n",
      "Nama: hai\n",
      "Mapel MTK: 67\n",
      "Mapel FISIKA: 67\n",
      "Mapel KIMIA: 67\n",
      "Mapel BIOLOGI: 67\n",
      "\n",
      "======== PROGRAM SISTEM NILAI RAPOR ========\n",
      "oci: 145.0\n",
      "hai: 67.0\n"
     ]
    }
   ],
   "source": [
    "# manystudent = int(input(\"Masukkan jumlah murid yg ingin diolah datanya: \"))\n",
    "# x = 0\n",
    "# nama = []\n",
    "# finalrata = []\n",
    "# while x < manystudent:\n",
    "#     name = input(\"Masukkan nama yg ingin diolah datanya: \")\n",
    "#     mtk = int(input(\"Masukkan niai MTK: \"))\n",
    "#     fisika = int(input(\"Masukkan niai FISIKA: \"))\n",
    "#     kimia = int(input(\"Masukkan niai KIMIA: \"))\n",
    "#     bio = int(input(\"Masukkan niai BIOLOGI: \"))\n",
    "#     x +=1\n",
    "#     rata = float((mtk + kimia+ fisika + bio) / 4)\n",
    "#     nama.append(name)\n",
    "#     finalrata.append(rata)\n",
    "    \n",
    "# print(\"=\" * 8, \"PROGRAM SISTEM NILAI RAPOR\", \"=\" * 8) \n",
    "# print(f\"Masukkan jumla siswa: {manystudent} \")\n",
    "# for i in range( 1,manystudent + 1):\n",
    "#     print(f\"\"\"\n",
    "# Masukkan data ke-{i}\n",
    "# Nama: {nama[i - 1]}\n",
    "# Mapel MTK: {mtk}\n",
    "# Mapel FISIKA: {fisika}\n",
    "# Mapel KIMIA: {kimia}\n",
    "# Mapel BIOLOGI: {bio}\n",
    "# \"\"\")\n",
    "# print(\"=\" * 8, \"PROGRAM SISTEM NILAI RAPOR\", \"=\" * 8) \n",
    "# for i in range(1, manystudent + 1):\n",
    "#     print(f\"{nama[i - 1]}: {finalrata[i - 1]}\")\n",
    "    "
   ]
  },
  {
   "cell_type": "code",
   "execution_count": null,
   "id": "ae4349e3",
   "metadata": {},
   "outputs": [
    {
     "name": "stdout",
     "output_type": "stream",
     "text": [
      "RotiNaga SupElf RotiNaga SupElf RotiNaga JusPhoenix\n",
      "RotiNaga\n"
     ]
    }
   ],
   "source": [
    "# menu = ['RotiNaga', 'SupElf', 'RotiNaga', 'SupElf', 'RotiNaga', 'JusPhoenix']\n",
    "# palingMenu = max(menu, key=menu.count)\n",
    "# print(\" \".join(menu))\n",
    "# print(palingMenu)"
   ]
  },
  {
   "cell_type": "code",
   "execution_count": null,
   "id": "57d429fd",
   "metadata": {},
   "outputs": [
    {
     "name": "stdout",
     "output_type": "stream",
     "text": [
      " ach\n",
      "abcdka,ac ancnad,ndabhdc,h cha hc\n"
     ]
    }
   ],
   "source": [
    "# n = int(input(\"banyak kata yg akan ditulis oggy\"))\n",
    "# hai = []\n",
    "# for i in range(1, n + 1):\n",
    "#     kata = input(\"masukkan kata apa aja\").lower()\n",
    "#     hai.append(kata)\n",
    "#     ascii = [ord(i) for i in kata]\n",
    "#     char = [chr(x) for x in ascii]\n",
    "#     unik = set(char)\n",
    "#     loh = sorted(unik)\n",
    "#     # perbedaan sorted dan sort\n",
    "\n",
    "\n",
    "\n",
    "# print(\"\".join(loh))\n",
    "# print(\",\".join(hai))\n"
   ]
  },
  {
   "cell_type": "code",
   "execution_count": null,
   "id": "5598533f",
   "metadata": {},
   "outputs": [
    {
     "name": "stdout",
     "output_type": "stream",
     "text": [
      "halo halo Masuk kategori SANGAT LEMAH skor 1\n"
     ]
    }
   ],
   "source": [
    "# kataSandi = int(input(\"Masukkan beberapa kata sandi yg akan diuji: \"))\n",
    "# tampungan = []\n",
    "\n",
    "# for i in range(1, kataSandi + 1 ):\n",
    "#     inputKatasandi = input(\"Masukkan kata sandi\")\n",
    "#     mypoin = 0\n",
    "# # knp aku bikin if banyak kali? \n",
    "# # Karena kamu pakai elif, maka hanya satu kondisi pertama yang benar akan dijalankan.\n",
    "# # Padahal kamu ingin semua kondisi dicek (huruf besar, kecil, angka, dll).\n",
    "# # Jadi harusnya pakai if semua, bukan elif.\n",
    "#     if len(inputKatasandi) >= 8:\n",
    "#         mypoin += 2\n",
    "\n",
    "#     if any(char.isupper() for char in inputKatasandi):\n",
    "#         mypoin += 1\n",
    "\n",
    "#     if any(char.islower() for char in inputKatasandi):\n",
    "#         mypoin += 1\n",
    "\n",
    "#     if any(char.isdigit() for char in inputKatasandi):\n",
    "#         mypoin += 1\n",
    "\n",
    "#     if any(not char.isalnum() for char in inputKatasandi):\n",
    "#         mypoin += 2\n",
    "    \n",
    "#     tampungan.append(inputKatasandi)\n",
    "\n",
    "#     if mypoin >=6 :\n",
    "#         kategori = \"Masuk kategori KUAT\"\n",
    "#     elif mypoin >=4 :\n",
    "#         kategori = \"Masuk kategori SEDANG\"\n",
    "#     elif mypoin >=2 :\n",
    "#         kategori = \"Masuk kategori LEMAH\"\n",
    "#     else:\n",
    "#         kategori = \"Masuk kategori SANGAT LEMAH\"\n",
    "\n",
    "#     print(\"halo halo\", kategori,\"skor\", mypoin)\n"
   ]
  }
 ],
 "metadata": {
  "kernelspec": {
   "display_name": "base",
   "language": "python",
   "name": "python3"
  },
  "language_info": {
   "codemirror_mode": {
    "name": "ipython",
    "version": 3
   },
   "file_extension": ".py",
   "mimetype": "text/x-python",
   "name": "python",
   "nbconvert_exporter": "python",
   "pygments_lexer": "ipython3",
   "version": "3.13.5"
  }
 },
 "nbformat": 4,
 "nbformat_minor": 5
}
