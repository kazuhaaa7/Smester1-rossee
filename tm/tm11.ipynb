{
 "cells": [
  {
   "cell_type": "code",
   "execution_count": null,
   "id": "81a5a58f",
   "metadata": {},
   "outputs": [],
   "source": [
    "# materi data handling\n",
    "\n",
    "# df\n",
    "# cara membuat data frame\n",
    "# colums = <nama header colom> | digunakan jika ingin memberi nama pada suatu kolom\n",
    "# .shape(), untuk menampilkan ukuran df => brp baris dan brp kolom\n",
    "# len(<var dataframe>), digunakan untuk membaca banyaknya data dgn hitungan idx.\n",
    "# .describe() untuk membaca detail dara data, terdiri dari count,mean,std, min, 25%, 50%, 75%,dan max ini tergantung banyaknya data\n",
    "# .info(untuk meriksa apakah ada missing value pd data), pandas\n",
    "# untuk membaca kolom tertentu terdapat 2 cara:\n",
    "# df[\"<nama kolom>\"] atau df.<nama kolom>\n",
    "# format untuk membaca sel terntu dari suatu kolom: .iloc[baris,kolom], bisa pake slicing juga\n",
    "\n",
    "# #MANIPULASI DATA\n",
    "# manipulasi data: join(base on index), concat(base on idx) bedanya ada di axis=, 1 apabila beberapa data ingin digabung, klo axis= 0, akan menambah baris dan colom  menummpuk data yg sudah ada, merge = > sifat siftnya yg komplex\n",
    "# join() - Bergabung Berdasarkan Index\n",
    "# Karakteristik:\n",
    "# Berdasarkan: Index (default)\n",
    "# Tipe join: Left join (default)\n",
    "# Use case: Menggabungkan DataFrame berdasarkan index\n",
    "# Parameter penting:\n",
    "# how: 'left', 'right', 'inner', 'outer'\n",
    "# lsuffix, rsuffix: Suffix untuk kolom duplikat\n",
    "\n",
    "# concat() - Menggabungkan Vertikal/Horizontal\n",
    "# Karakteristik:\n",
    "# Berdasarkan: Axis (0=vertical, 1=horizontal)\n",
    "# Tipe: Stacking/concatenation\n",
    "# Use case: Menggabungkan DataFrame dengan struktur serupa\n",
    "# Parameter penting:\n",
    "# axis: 0 (vertical), 1 (horizontal)\n",
    "# ignore_index: Reset index\n",
    "# keys: Multi-index untuk identifikasi source\n",
    "\n",
    "# merge() - SQL-style Join\n",
    "# Karakteristik:\n",
    "# Berdasarkan: Kolom tertentu (bukan index)\n",
    "# Tipe join: Inner join (default)\n",
    "# Use case: Menggabungkan seperti SQL JOIN\n",
    "# Parameter penting:\n",
    "# on: Kolom untuk join\n",
    "# how: 'inner', 'left', 'right', 'outer', 'cross'\n",
    "# left_on, right_on: Kolom berbeda antara DataFrame\n",
    "\n",
    "# .iloc[bisa pakai idx atau nama kolom] => untuk memanipulasi value \n",
    "# .drop(nomer brp, memakai numerik manusia) => menghaous value \n",
    "# .index => mendefinisikan nilai idx ke df\n",
    "# .at[<baris idx brp>, <nama kolom>] = <value yg akan diubah>\n",
    "\n",
    "# #BEKERJA DGN FILE\n",
    "# masih berlaku aturan file handling\n",
    "# menyimpan data ke dalam csv, .to_csv(<nama fie>)\n",
    "\n",
    "# $apabila ada data null dan bernilai dgn numerik bbisa diisi dgn nilai mean\n",
    "# $apbila kategorikal bisa diganti dgn modus"
   ]
  },
  {
   "cell_type": "markdown",
   "id": "eaa3eb4a",
   "metadata": {},
   "source": [
    "<h3> menggabungkan beberapa tabel </h3\n",
    ">"
   ]
  },
  {
   "cell_type": "code",
   "execution_count": 75,
   "id": "e510698b",
   "metadata": {},
   "outputs": [
    {
     "name": "stdout",
     "output_type": "stream",
     "text": [
      "   Unnamed: 0   Nama  Umur Kelas  Nilai  Gender\n",
      "0           0   Andi    16   10A     85    Pria\n",
      "1           1   Budi    17   11B     90    Pria\n",
      "2           2  Citra    16   10B     78  Wanita\n",
      "3           3  Dinda    17   11A     88  Wanita\n",
      "4           4  Rossi    15    9C     92    Pria\n",
      "\n",
      " use concat methode\n",
      "   Unnamed: 0   Nama  Umur Kelas  Nilai  Gender  Gender\n",
      "0           0   Andi    16   10A     85    Pria    Pria\n",
      "1           1   Budi    17   11B     90    Pria    Pria\n",
      "2           2  Citra    16   10B     78  Wanita  Wanita\n",
      "3           3  Dinda    17   11A     88  Wanita  Wanita\n",
      "4           4  Rossi    15    9C     92    Pria    Pria\n",
      "(5, 7)\n",
      "\n",
      " use merge methode\n",
      "   Unnamed: 0   Nama  Umur Kelas  Nilai Gender_x Gender_y\n",
      "0           0   Andi    16   10A     85     Pria     Pria\n",
      "1           1   Budi    17   11B     90     Pria     Pria\n",
      "2           2  Citra    16   10B     78   Wanita   Wanita\n",
      "3           3  Dinda    17   11A     88   Wanita   Wanita\n",
      "4           4  Rossi    15    9C     92     Pria     Pria\n"
     ]
    }
   ],
   "source": [
    "import pandas as pds\n",
    "file = '/Users/ADVAN/Documents/Gakkou/Data Science.Machine Learning/data handling/data_siswa.csv'\n",
    "df = pds.read_csv(file)\n",
    "# df.head(2)\n",
    "print(df)\n",
    "listbaru = ['Pria', 'Pria', 'Wanita','Wanita', 'Pria']\n",
    "df1 = pds.DataFrame(listbaru, columns= ['Gender'])\n",
    "\n",
    "# join = df.join(df1)\n",
    "# print(\"\\n use join methode\")\n",
    "# print(join)\n",
    "concat = pds.concat([df, df1], axis=1)\n",
    "print(\"\\n use concat methode\")\n",
    "print(concat)\n",
    "print(concat.shape)\n",
    "merge = pds.merge(df, df1, left_index = True, right_index=True)\n",
    "print(\"\\n use merge methode\")\n",
    "print(merge)"
   ]
  },
  {
   "cell_type": "markdown",
   "id": "e08cc9e3",
   "metadata": {},
   "source": [
    "memanipulasi tabel"
   ]
  },
  {
   "cell_type": "code",
   "execution_count": 77,
   "id": "b603b35b",
   "metadata": {},
   "outputs": [
    {
     "name": "stdout",
     "output_type": "stream",
     "text": [
      "\n",
      " use join methode\n",
      "\n",
      " use concat methode\n",
      "   Unnamed: 0   Nama  Umur Kelas  Nilai  Gender  Gender\n",
      "0           0   Andi    16   10A     85    Pria    Pria\n",
      "1           1   Budi    17   11B     90    Pria    Pria\n",
      "2           2  Citra    16   10B     78  Wanita  Wanita\n",
      "3           3  Dinda    17   11A     88  Wanita  Wanita\n",
      "4           4  Rossi    15    9C     92    Pria    Pria\n",
      "(5, 7)\n"
     ]
    }
   ],
   "source": [
    "import pandas as pds\n",
    "file = '/Users/ADVAN/Documents/Gakkou/Data Science.Machine Learning/data handling/data_siswa.csv'\n",
    "df = pds.read_csv(file)\n",
    "listbaru = ['Pria', 'Pria', 'Wanita','Wanita', 'Pria']\n",
    "df1 = pds.DataFrame(listbaru, columns= ['Gender'])\n",
    "# join = df.join(df1)\n",
    "# join.shape\n",
    "print(\"\\n use join methode\")\n",
    "# join = join.drop('No', axis = 1)# menghapus value yg kita mau dan axis = 1 untuk kolom, axis = 0 untuk baris\n",
    "# print(join)\n",
    "# # join.iloc[]\n",
    "concat = pds.concat([df, df1], axis=1)\n",
    "print(\"\\n use concat methode\")\n",
    "print(concat)\n",
    "print(concat.shape)"
   ]
  },
  {
   "cell_type": "markdown",
   "id": "3581ebe1",
   "metadata": {},
   "source": [
    "ubah value\n"
   ]
  },
  {
   "cell_type": "code",
   "execution_count": 78,
   "id": "96490d14",
   "metadata": {},
   "outputs": [
    {
     "name": "stdout",
     "output_type": "stream",
     "text": [
      "\n",
      " use concat methode\n",
      "   Unnamed: 0   Nama  Umur Kelas  Nilai  Gender  Gender\n",
      "0           0   Andi    16   10A     85    Pria    Pria\n",
      "1           1   Budi    17   11B     90    Pria    Pria\n",
      "2           2  Citra    16   10B     78  Wanita  Wanita\n",
      "3           3  Dinda    17   11A     88  Wanita  Wanita\n",
      "4           4  Rossi    15    9C     92    Pria    Pria\n",
      "(5, 7)\n"
     ]
    }
   ],
   "source": [
    "import pandas as pds\n",
    "file = '/Users/ADVAN/Documents/Gakkou/Data Science.Machine Learning/data handling/data_siswa.csv'\n",
    "df = pds.read_csv(file)\n",
    "listbaru = ['Pria', 'Pria', 'Wanita','Wanita', 'Pria']\n",
    "df1 = pds.DataFrame(listbaru, columns= ['Gender'])\n",
    "# df3 = df.join(df1)\n",
    "# print(join.shape)\n",
    "# print(\"\\n use join methode\")\n",
    "# join = join.drop('No', axis = 1)# menghapus value yg kita mau dan axis = 1 untuk kolom, axis = 0 untuk baris\n",
    "# # print(join)\n",
    "# join.at[4, 'Nama'] = 'Rossi' # manipulasi value\n",
    "# join\n",
    "concat = pds.concat([df, df1], axis=1)\n",
    "print(\"\\n use concat methode\")\n",
    "print(concat)\n",
    "print(concat.shape)\n",
    "concat.to_csv(file)\n"
   ]
  }
 ],
 "metadata": {
  "kernelspec": {
   "display_name": "Python 3",
   "language": "python",
   "name": "python3"
  },
  "language_info": {
   "codemirror_mode": {
    "name": "ipython",
    "version": 3
   },
   "file_extension": ".py",
   "mimetype": "text/x-python",
   "name": "python",
   "nbconvert_exporter": "python",
   "pygments_lexer": "ipython3",
   "version": "3.13.7"
  }
 },
 "nbformat": 4,
 "nbformat_minor": 5
}
