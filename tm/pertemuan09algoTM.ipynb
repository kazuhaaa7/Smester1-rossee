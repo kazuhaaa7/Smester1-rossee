{
 "cells": [
  {
   "cell_type": "code",
   "execution_count": null,
   "id": "7a0445af",
   "metadata": {},
   "outputs": [
    {
     "ename": "FileNotFoundError",
     "evalue": "[Errno 2] No such file or directory: 'nabilcute.txt'",
     "output_type": "error",
     "traceback": [
      "\u001b[31m---------------------------------------------------------------------------\u001b[39m",
      "\u001b[31mFileNotFoundError\u001b[39m                         Traceback (most recent call last)",
      "\u001b[36mCell\u001b[39m\u001b[36m \u001b[39m\u001b[32mIn[1]\u001b[39m\u001b[32m, line 21\u001b[39m\n\u001b[32m      1\u001b[39m \u001b[38;5;66;03m# open.() hanya untuk file berextention .txt \u001b[39;00m\n\u001b[32m      2\u001b[39m \u001b[38;5;66;03m#hasby = open(r'C:/Users/ADVAN/pkb/hai.txt')\u001b[39;00m\n\u001b[32m      3\u001b[39m \u001b[38;5;66;03m#hasby.read()\u001b[39;00m\n\u001b[32m   (...)\u001b[39m\u001b[32m     18\u001b[39m \u001b[38;5;66;03m# print(f.readlines())   # baca semua baris, hasilnya list\u001b[39;00m\n\u001b[32m     19\u001b[39m \u001b[38;5;66;03m# f.close()\u001b[39;00m\n\u001b[32m---> \u001b[39m\u001b[32m21\u001b[39m nabil = \u001b[38;5;28;43mopen\u001b[39;49m\u001b[43m(\u001b[49m\u001b[33;43mr\u001b[39;49m\u001b[33;43m'\u001b[39;49m\u001b[33;43mnabilcute.txt\u001b[39;49m\u001b[33;43m'\u001b[39;49m\u001b[43m)\u001b[49m\n\u001b[32m     23\u001b[39m nabil.write(\u001b[33m\"\u001b[39m\u001b[33mhai2\u001b[39m\u001b[33m\"\u001b[39m)\n",
      "\u001b[36mFile \u001b[39m\u001b[32m~\\AppData\\Roaming\\Python\\Python313\\site-packages\\IPython\\core\\interactiveshell.py:343\u001b[39m, in \u001b[36m_modified_open\u001b[39m\u001b[34m(file, *args, **kwargs)\u001b[39m\n\u001b[32m    336\u001b[39m \u001b[38;5;28;01mif\u001b[39;00m file \u001b[38;5;129;01min\u001b[39;00m {\u001b[32m0\u001b[39m, \u001b[32m1\u001b[39m, \u001b[32m2\u001b[39m}:\n\u001b[32m    337\u001b[39m     \u001b[38;5;28;01mraise\u001b[39;00m \u001b[38;5;167;01mValueError\u001b[39;00m(\n\u001b[32m    338\u001b[39m         \u001b[33mf\u001b[39m\u001b[33m\"\u001b[39m\u001b[33mIPython won\u001b[39m\u001b[33m'\u001b[39m\u001b[33mt let you open fd=\u001b[39m\u001b[38;5;132;01m{\u001b[39;00mfile\u001b[38;5;132;01m}\u001b[39;00m\u001b[33m by default \u001b[39m\u001b[33m\"\u001b[39m\n\u001b[32m    339\u001b[39m         \u001b[33m\"\u001b[39m\u001b[33mas it is likely to crash IPython. If you know what you are doing, \u001b[39m\u001b[33m\"\u001b[39m\n\u001b[32m    340\u001b[39m         \u001b[33m\"\u001b[39m\u001b[33myou can use builtins\u001b[39m\u001b[33m'\u001b[39m\u001b[33m open.\u001b[39m\u001b[33m\"\u001b[39m\n\u001b[32m    341\u001b[39m     )\n\u001b[32m--> \u001b[39m\u001b[32m343\u001b[39m \u001b[38;5;28;01mreturn\u001b[39;00m \u001b[43mio_open\u001b[49m\u001b[43m(\u001b[49m\u001b[43mfile\u001b[49m\u001b[43m,\u001b[49m\u001b[43m \u001b[49m\u001b[43m*\u001b[49m\u001b[43margs\u001b[49m\u001b[43m,\u001b[49m\u001b[43m \u001b[49m\u001b[43m*\u001b[49m\u001b[43m*\u001b[49m\u001b[43mkwargs\u001b[49m\u001b[43m)\u001b[49m\n",
      "\u001b[31mFileNotFoundError\u001b[39m: [Errno 2] No such file or directory: 'nabilcute.txt'"
     ]
    }
   ],
   "source": [
    "# open.() hanya untuk file berextention .txt \n",
    "#hasby = open(r'C:/Users/ADVAN/pkb/hai.txt')\n",
    "#hasby.read()\n",
    "\n",
    "# function:\n",
    "# <namavariabel>.readline() #membaca setiap baris\n",
    "# Mode\tArti\tKeterangan\n",
    "# 'r'\tread\thanya membaca (default)\n",
    "# 'w'\twrite\tmenulis (file lama dihapus dulu)\n",
    "# 'a'\tappend\tmenambah data di akhir file\n",
    "# 'x'\tcreate\tmembuat file baru, error jika sudah ada\n",
    "# 'b'\tbinary\tuntuk file biner (misal 'rb', 'wb')\n",
    "# '+'\tupdate\tbaca dan tulis sekaligus\n",
    "\n",
    "# f = open(\"data.txt\", \"r\")\n",
    "# print(f.read())        # baca semua isi\n",
    "# print(f.readline())    # baca satu baris\n",
    "# print(f.readlines())   # baca semua baris, jadikan hasilnya list\n",
    "# f.close()\n",
    " \n",
    "nabil = open(r'nabilcute.txt')\n",
    "\n",
    "nabil.write(\"hai2\")\n",
    "\n",
    "\n",
    "\n"
   ]
  },
  {
   "cell_type": "markdown",
   "id": "0bfeea28",
   "metadata": {},
   "source": [
    "Pertmuan 10 - File Handling\n"
   ]
  },
  {
   "cell_type": "code",
   "execution_count": null,
   "id": "66c7b65c",
   "metadata": {},
   "outputs": [],
   "source": [
    "# penggunaan mode \"w\"\n",
    "file = open(\"/Users/ADVAN/hai.txt\")\n",
    "# list = \n",
    "# /readlines(), untuk jadikan data menjadi type list, memanggil sebuah value yg bertype list\n",
    "# formar penggunaan mode = open(<path file baru\">, \"mode\"), untuk create file .txt baru\n",
    "# .close() , jangan lupa untuk ditutup\n",
    "# bebas = \"isi yg akan dimasukkan ke file baru\"\n",
    "# .write(bebas) atau langsung : <namafile>.wrire(\"isi teks\")\n",
    "# print(namavariabel)\n",
    "# .writelines(<namavariabel>), apabila sudah ada list dan ingin memunculkan isi dari list tsb.\n",
    "# .write(<namavariabel>), hanya nuntuk <namavariabel> yg valuenya bertype string\n",
    "\n",
    "# .insert(), untuk menambahkan isi dan kita bisa memilih akan ditempatkan dmana."
   ]
  },
  {
   "cell_type": "markdown",
   "id": "590d725d",
   "metadata": {},
   "source": [
    "Mencoba menggunakan library milik python\n"
   ]
  },
  {
   "cell_type": "code",
   "execution_count": null,
   "id": "b7ea8e2b",
   "metadata": {},
   "outputs": [
    {
     "name": "stdout",
     "output_type": "stream",
     "text": [
      "c:\\Users\\ADVAN\\Desktop\\Smester 1\\Smester1-rossee\\tm\n",
      "C:\\Users\\ADVAN\\Desktop\\Smester 1\\Smester1-rossee\\tm\\deep.py\n",
      "['.git', 'Algo_TM._P04.py', 'Algo_tm_p04.py', 'anomali.py', 'A_252410101090_MUHAMMAD-FATHOR-ROSSI_tugas1.py.py', 'A_252410101090_MUHAMMAD_FATHOR_ROSSI_tugas02.py', 'new.py', 'nim.py', 'output.png', 'pkb.ipynb', 'pkb.py', 'pkbtask2.ipynb', 'task.py', 'task2.ipynb', 'tugasRossip02.py']\n",
      "True\n",
      ".git\n",
      "Algo_TM._P04.py\n",
      "Algo_tm_p04.py\n",
      "anomali.py\n",
      "A_252410101090_MUHAMMAD-FATHOR-ROSSI_tugas1.py.py\n",
      "A_252410101090_MUHAMMAD_FATHOR_ROSSI_tugas02.py\n",
      "new.py\n",
      "nim.py\n",
      "output.png\n",
      "pkb.ipynb\n",
      "pkb.py\n",
      "pkbtask2.ipynb\n",
      "task.py\n",
      "task2.ipynb\n",
      "tugasRossip02.py\n"
     ]
    }
   ],
   "source": [
    "import os \n",
    "print(os.getcwd())\n",
    "print(os.path.realpath(\"deep.py\"))\n",
    "print(os.listdir(\"/Users/ADVAN/Smester1-rossee\"))\n",
    "dir = os.listdir(\"/Users/ADVAN/Smester1-rossee\")\n",
    "path = \"/Users/ADVAN/Smester1-rossee\"\n",
    "file = 'Algo_TM._P04.py'\n",
    "print(os.path.isfile(file))\n",
    "\n",
    "for i in dir:\n",
    "\n",
    "    print(i)\n",
    "\n",
    "\n"
   ]
  },
  {
   "cell_type": "code",
   "execution_count": 7,
   "id": "d16c17d5",
   "metadata": {},
   "outputs": [
    {
     "name": "stdout",
     "output_type": "stream",
     "text": [
      "program akan berhenti dan mentotal tabungan kamu\n",
      "[5000, 11000, 16000]\n"
     ]
    }
   ],
   "source": [
    "daftar = int(input(\"Masukkan nominal yg akan ditabung: \"))\n",
    "\n",
    "nominal = []\n",
    "sumnom = 0\n",
    "nominal.append(daftar)\n",
    "\n",
    "sumnom += daftar\n",
    "\n",
    "\n",
    "while True:\n",
    "    ask = input(\"Apakah kamu ingin nabung lagi? [Y]/[T]\").upper()\n",
    "    if ask == \"Y\":\n",
    "        daftar = int(input(\"Masukkan lagi nominal yg akan ditabung: \"))\n",
    "    else:\n",
    "        print(\"program akan berhenti dan mentotal tabungan kamu\")\n",
    "        break\n",
    "    sumnom += daftar\n",
    "    nominal.append(sumnom)\n",
    "\n",
    "print(nominal)"
   ]
  },
  {
   "cell_type": "code",
   "execution_count": 5,
   "id": "c416544b",
   "metadata": {},
   "outputs": [
    {
     "name": "stdout",
     "output_type": "stream",
     "text": [
      "total tabungan kamu: \n",
      "[7000, 15000, 22000]\n"
     ]
    }
   ],
   "source": [
    "daftar = int(input(\"Masukkan nominal yg akan ditabung: \"))\n",
    "\n",
    "nominal = []\n",
    "sumnom = 0\n",
    "nominal.append(daftar)\n",
    "\n",
    "sumnom += daftar\n",
    "\n",
    "\n",
    "while True:\n",
    "    ask = input(\"Apakah kamu ingin nabung lagi? [Y]/[T]\").upper()\n",
    "    if ask == \"Y\":\n",
    "        daftar = int(input(\"Masukkan lagi nominal yg akan ditabung: \"))\n",
    "    else:\n",
    "        print(\"total tabungan kamu: \")\n",
    "        break\n",
    "    sumnom += daftar\n",
    "    nominal.append(sumnom)\n",
    "\n",
    "print(nominal)"
   ]
  }
 ],
 "metadata": {
  "kernelspec": {
   "display_name": "Python 3",
   "language": "python",
   "name": "python3"
  },
  "language_info": {
   "codemirror_mode": {
    "name": "ipython",
    "version": 3
   },
   "file_extension": ".py",
   "mimetype": "text/x-python",
   "name": "python",
   "nbconvert_exporter": "python",
   "pygments_lexer": "ipython3",
   "version": "3.13.7"
  }
 },
 "nbformat": 4,
 "nbformat_minor": 5
}
