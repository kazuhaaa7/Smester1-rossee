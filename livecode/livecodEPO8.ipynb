{
 "cells": [
  {
   "cell_type": "code",
   "execution_count": null,
   "id": "9dafe4d7",
   "metadata": {},
   "outputs": [],
   "source": [
    "# Live code pertemuan 08\n",
    "# looping"
   ]
  },
  {
   "cell_type": "code",
   "execution_count": null,
   "id": "f970f7e1",
   "metadata": {},
   "outputs": [],
   "source": [
    "# while loop, kebalikan dari for loop\n",
    "# infinit loop, iterasi yg berulang tnap batas, mitigasinya bisa dari memeperhatikan lagi operasinya\n",
    "# for loop, digunakan apabila kta udah tau brp banyak isi dari suatu data yg akan diiterasi.\n",
    "# "
   ]
  },
  {
   "cell_type": "code",
   "execution_count": 1,
   "id": "feb42c87",
   "metadata": {},
   "outputs": [
    {
     "name": "stdout",
     "output_type": "stream",
     "text": [
      "10\n",
      "8\n",
      "6\n",
      "4\n"
     ]
    }
   ],
   "source": [
    "for i in range(10, 2, - 2):\n",
    "    print(i)"
   ]
  },
  {
   "cell_type": "code",
   "execution_count": null,
   "id": "27025ad6",
   "metadata": {},
   "outputs": [
    {
     "name": "stdout",
     "output_type": "stream",
     "text": [
      "*\n",
      "***\n",
      "*****\n",
      "*******\n",
      "*********\n"
     ]
    }
   ],
   "source": [
    "# nested for loop \n",
    "for i in range(1,10,2 ):\n",
    "    for h in range(i):\n",
    "        print(\"*\", end=\"\")\n",
    "    print()"
   ]
  },
  {
   "cell_type": "code",
   "execution_count": null,
   "id": "8862ddd0",
   "metadata": {},
   "outputs": [],
   "source": [
    "# nested while loop\n",
    "\n",
    "while i < =  "
   ]
  },
  {
   "cell_type": "code",
   "execution_count": null,
   "id": "b0aca040",
   "metadata": {},
   "outputs": [],
   "source": [
    "# continue n break"
   ]
  },
  {
   "cell_type": "code",
   "execution_count": null,
   "id": "0636386c",
   "metadata": {},
   "outputs": [],
   "source": [
    "# list comprehensif, coba explore kasik operasi logika, numerik, \n",
    "# menyederhanakan syntaax"
   ]
  }
 ],
 "metadata": {
  "kernelspec": {
   "display_name": "base",
   "language": "python",
   "name": "python3"
  },
  "language_info": {
   "codemirror_mode": {
    "name": "ipython",
    "version": 3
   },
   "file_extension": ".py",
   "mimetype": "text/x-python",
   "name": "python",
   "nbconvert_exporter": "python",
   "pygments_lexer": "ipython3",
   "version": "3.13.5"
  }
 },
 "nbformat": 4,
 "nbformat_minor": 5
}
