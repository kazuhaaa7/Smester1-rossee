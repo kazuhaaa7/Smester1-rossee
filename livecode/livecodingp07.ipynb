{
 "cells": [
  {
   "cell_type": "code",
   "execution_count": null,
   "id": "0b8af113",
   "metadata": {},
   "outputs": [
    {
     "name": "stdout",
     "output_type": "stream",
     "text": [
      "buah anggur belum terdaftar dalam sistem\n"
     ]
    }
   ],
   "source": [
    "# no 2, LIve Coding\n",
    "buah = input(\"\"\"pilih buah\n",
    "             apel\n",
    "             jeruk\"\"\")\n",
    "jmlah = int(input(\"masukan jumlah buah\"))\n",
    "\n",
    "i = (buah, jmlah)\n",
    "\n",
    "match i:\n",
    "    case (a,b) if a == \"apel\" and b > 10:\n",
    "        print(\"stock apel banyak\" )\n",
    "    case (a,b) if a == \"apel\" and b < 10:\n",
    "        print(\"stock apel sedikit\" )\n",
    "    case (a,b) if a == \"jeruk\":\n",
    "        print(f\"Stock jeruk {jmlah}\" )\n",
    "    case (a) if buah != a:\n",
    "        print(f\"buah {buah} belum terdaftar dalam sistem\")\n"
   ]
  },
  {
   "cell_type": "code",
   "execution_count": null,
   "id": "8e1708c6",
   "metadata": {},
   "outputs": [],
   "source": []
  },
  {
   "cell_type": "code",
   "execution_count": 6,
   "id": "2e4c9b49",
   "metadata": {},
   "outputs": [
    {
     "name": "stdout",
     "output_type": "stream",
     "text": [
      "\n",
      "nama : rossi\n",
      "nilai: 89\n",
      "kategori: Nilai A - Sangat baik\n"
     ]
    }
   ],
   "source": [
    "# no 3, Live coding\n",
    "data = {}\n",
    "\n",
    "nama = input(\"masukkan nama\")\n",
    "nilai = int(input(\"Masukkan nilai\"))\n",
    "\n",
    "\n",
    "data[nama] = nilai\n",
    "\n",
    "\n",
    "for siswa, nilai in data.items(): \n",
    "    match nilai:\n",
    "        case n if nilai > 85:\n",
    "            kategori= \"Nilai A - Sangat baik\"\n",
    "        case n if 70 < n < 84:\n",
    "            kategori = \"Nilai B -  baik\"\n",
    "        case n if 55<  n < 69:\n",
    "            kategori = \"Nilai c - cukup\"\n",
    "        case n if 40 < n < 54 :\n",
    "            kategori = \"Nilai A - Sangat baik\"\n",
    "        case _:\n",
    "            kategori = \"Nilai A - Sangat baik\"\n",
    "print(f\"\"\"\n",
    "nama : {nama}\n",
    "nilai: {nilai}\n",
    "kategori: {kategori}\"\"\")\n",
    "\n"
   ]
  },
  {
   "cell_type": "code",
   "execution_count": null,
   "id": "a87180b5",
   "metadata": {},
   "outputs": [],
   "source": [
    "# no 4, Live Coding\n"
   ]
  }
 ],
 "metadata": {
  "kernelspec": {
   "display_name": "Python 3",
   "language": "python",
   "name": "python3"
  },
  "language_info": {
   "codemirror_mode": {
    "name": "ipython",
    "version": 3
   },
   "file_extension": ".py",
   "mimetype": "text/x-python",
   "name": "python",
   "nbconvert_exporter": "python",
   "pygments_lexer": "ipython3",
   "version": "3.13.7"
  }
 },
 "nbformat": 4,
 "nbformat_minor": 5
}
