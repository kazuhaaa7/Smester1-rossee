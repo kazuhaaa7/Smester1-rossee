{
 "cells": [
  {
   "cell_type": "markdown",
   "id": "fd1c6e79",
   "metadata": {},
   "source": [
    "\n",
    "![saoluts1](uts1.png)"
   ]
  },
  {
   "cell_type": "markdown",
   "id": "298beb67",
   "metadata": {},
   "source": [
    "![SOAL UTS2]"
   ]
  },
  {
   "cell_type": "markdown",
   "id": "22054171",
   "metadata": {},
   "source": [
    "![soal uts2](uts2.png)"
   ]
  },
  {
   "cell_type": "code",
   "execution_count": null,
   "id": "b756a793",
   "metadata": {},
   "outputs": [
    {
     "name": "stdout",
     "output_type": "stream",
     "text": [
      "Total belanja : 75000.0\n"
     ]
    }
   ],
   "source": [
    "# Meminta jumlah barang yang dibeli\n",
    "n = 4\n",
    "\n",
    "# Inisialisasi total belanja\n",
    "total = 0.0\n",
    "\n",
    "# Meminta harga setiap barang dan menjumlahkannya\n",
    "for i in range(n+1):\n",
    "    harga = 3\n",
    "    harga = 12000\n",
    "    harga = 8000.5\n",
    "    harga = 15000\n",
    "    total += harga\n",
    "    # ada opersi numerk di sini\n",
    "    \n",
    "\n",
    "# Menampilkan total belanjaa\n",
    "print(\"Total belanja :\", total)\n"
   ]
  },
  {
   "cell_type": "markdown",
   "id": "423e3bb2",
   "metadata": {},
   "source": [
    "SOAL UTS 3"
   ]
  },
  {
   "cell_type": "markdown",
   "id": "5ca8e049",
   "metadata": {},
   "source": [
    "![soal uts 3](uts3.png)"
   ]
  },
  {
   "cell_type": "markdown",
   "id": "51066daa",
   "metadata": {},
   "source": [
    "SOAL UTS 4\n"
   ]
  },
  {
   "cell_type": "markdown",
   "id": "4d742892",
   "metadata": {},
   "source": [
    "![soaluts 4](uts4.png\n",
    ")"
   ]
  },
  {
   "cell_type": "code",
   "execution_count": 3,
   "id": "2df923e0",
   "metadata": {},
   "outputs": [
    {
     "name": "stdout",
     "output_type": "stream",
     "text": [
      "*\n",
      "**\n",
      "###\n",
      "****\n",
      "*****\n"
     ]
    }
   ],
   "source": [
    "n = 5\n",
    "for i in range(1, n + 1):\n",
    "    if i % 3 == 0:\n",
    "        print(\"#\" * i)\n",
    "    else:\n",
    "        print(\"*\" * i)\n",
    "\n"
   ]
  }
 ],
 "metadata": {
  "kernelspec": {
   "display_name": "base",
   "language": "python",
   "name": "python3"
  },
  "language_info": {
   "codemirror_mode": {
    "name": "ipython",
    "version": 3
   },
   "file_extension": ".py",
   "mimetype": "text/x-python",
   "name": "python",
   "nbconvert_exporter": "python",
   "pygments_lexer": "ipython3",
   "version": "3.13.5"
  }
 },
 "nbformat": 4,
 "nbformat_minor": 5
}
