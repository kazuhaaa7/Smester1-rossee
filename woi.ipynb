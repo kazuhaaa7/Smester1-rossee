{
 "cells": [
  {
   "cell_type": "code",
   "execution_count": 1,
   "id": "19d6c15c",
   "metadata": {},
   "outputs": [
    {
     "name": "stdout",
     "output_type": "stream",
     "text": [
      "120\n"
     ]
    }
   ],
   "source": [
    "angka = int(input(\"Masukkan angka:\"))\n",
    "indeks = 1\n",
    "\n",
    "for i in range (1,angka + 1 ):\n",
    "    indeks *= i\n",
    "print(indeks)\n"
   ]
  },
  {
   "cell_type": "code",
   "execution_count": null,
   "id": "632dfa31",
   "metadata": {},
   "outputs": [],
   "source": []
  },
  {
   "cell_type": "code",
   "execution_count": null,
   "id": "56cf8696",
   "metadata": {},
   "outputs": [],
   "source": []
  },
  {
   "cell_type": "code",
   "execution_count": 39,
   "id": "d7e754dd",
   "metadata": {},
   "outputs": [
    {
     "name": "stdout",
     "output_type": "stream",
     "text": [
      "*\n",
      "**\n",
      "***\n",
      "****\n",
      "*****\n",
      "******\n"
     ]
    }
   ],
   "source": [
    "angka = int(input(\"Masukkan angka \"))\n",
    "for i in range(1, angka + 1):\n",
    "    print(\"*\" * i)"
   ]
  },
  {
   "cell_type": "code",
   "execution_count": 41,
   "id": "4b1dcf20",
   "metadata": {},
   "outputs": [
    {
     "name": "stdout",
     "output_type": "stream",
     "text": [
      "1 2 3 5 7 11 13 17 19 23 29 31 37 41 43 47 53 59 61 67 71 73 79 83 89 97 "
     ]
    }
   ],
   "source": [
    "for angka in range(1, 100 ):\n",
    "    prima = True\n",
    "    for i in range(2, angka):\n",
    "        if angka % i == 0:\n",
    "            prima = False \n",
    "            break\n",
    "\n",
    "\n",
    "    if prima:\n",
    "        print(angka, end= \" \")"
   ]
  },
  {
   "cell_type": "markdown",
   "id": "50c36bd8",
   "metadata": {},
   "source": []
  },
  {
   "cell_type": "code",
   "execution_count": 55,
   "id": "c9784437",
   "metadata": {},
   "outputs": [
    {
     "name": "stdout",
     "output_type": "stream",
     "text": [
      "5\n"
     ]
    }
   ],
   "source": [
    "angka = int(input(\"Masukkan bebrapa angka: \"))\n",
    "indeks = 1\n",
    "total = 0\n",
    "\n",
    "while indeks <= angka:\n",
    "    angkamasuk = int(input(f\"Masukkan bilangan ke- {indeks} :\"))\n",
    "    total += angkamasuk\n",
    "    indeks += 1\n",
    "\n",
    "rata = int(total / angka)\n",
    "print(rata)"
   ]
  }
 ],
 "metadata": {
  "kernelspec": {
   "display_name": "base",
   "language": "python",
   "name": "python3"
  },
  "language_info": {
   "codemirror_mode": {
    "name": "ipython",
    "version": 3
   },
   "file_extension": ".py",
   "mimetype": "text/x-python",
   "name": "python",
   "nbconvert_exporter": "python",
   "pygments_lexer": "ipython3",
   "version": "3.13.5"
  }
 },
 "nbformat": 4,
 "nbformat_minor": 5
}
