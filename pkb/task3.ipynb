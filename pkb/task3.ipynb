{
 "cells": [
  {
   "cell_type": "code",
   "execution_count": 1,
   "id": "23425622",
   "metadata": {},
   "outputs": [],
   "source": [
    "from sklearn.cluster import KMeans\n",
    "import pandas as pd\n",
    "from matplotlib import pyplot as plt\n",
    "##bisa dipahami"
   ]
  },
  {
   "cell_type": "code",
   "execution_count": 2,
   "id": "a46603c7",
   "metadata": {},
   "outputs": [
    {
     "data": {
      "text/plain": [
       "<function matplotlib.pyplot.show(close=None, block=None)>"
      ]
     },
     "execution_count": 2,
     "metadata": {},
     "output_type": "execute_result"
    },
    {
     "data": {
      "image/png": "[encoded data removed]",
      "text/plain": [
       "<Figure size 640x480 with 1 Axes>"
      ]
     },
     "metadata": {},
     "output_type": "display_data"
    }
   ],
   "source": [
    "# membaca dataset\n",
    "path = r\"C:\\Users\\ADVAN\\pkb\\data_tekanan_darah_fix.csv\" # menyimpan lokasi file CSV ke dalam variabel path.\n",
    "# Huruf r di depan tanda kutip berarti “raw string”, artinya Python tidak akan menganggap tanda \\ sebagai karakter khusus.\n",
    "\n",
    "df = pd.read_csv(path, sep= \",\") #membaca file CSV yang ada di alamat path menggunakan pandas (pd).\n",
    "# pd.read_csv() = fungsi untuk membuka file .csv dan menyimpannya dalam bentuk DataFrame (tabel seperti di Excel).\n",
    "# sep=\",\" = pemisah antar kolom di file adalah koma ,\n",
    "\n",
    "\n",
    "# df = df.rename(columns={\n",
    "#     \"Tinggi(cm)\": \"Tinggi\",\n",
    "#     \"Berat(kg)\": \"Berat\"\n",
    "# })\n",
    "\n",
    "# Visual dataset\n",
    "plt.scatter(df['TEKANAN_DARAH'],df['BERAT_BADAN']) #Ini membuat grafik sebar (scatter plot) dari data:\n",
    "# Sumbu X (horizontal) = nilai dari kolom TEKANAN_DARAH\n",
    "# Sumbu Y (vertikal) = nilai dari kolom BERAT_BADAN\n",
    "\n",
    "\n",
    "plt.title('Hub tekanan darah vs berat badan')\n",
    "plt.xlabel('Tekanan darah')\n",
    "plt.ylabel('Berat badan (kg)')\n",
    "plt.show\n",
    "\n",
    "# digunakan untuk menampilkan hubungan antara tekanan darah dan berat badan dalam bentuk grafik titik (scatter plot)."
   ]
  },
  {
   "cell_type": "code",
   "execution_count": 3,
   "id": "38c15dd5",
   "metadata": {},
   "outputs": [
    {
     "name": "stdout",
     "output_type": "stream",
     "text": [
      "Index(['NAMA', 'TEKANAN_DARAH', 'BERAT_BADAN'], dtype='object')\n"
     ]
    },
    {
     "data": {
      "text/html": [
       "<div>\n",
       "<style scoped>\n",
       "    .dataframe tbody tr th:only-of-type {\n",
       "        vertical-align: middle;\n",
       "    }\n",
       "\n",
       "    .dataframe tbody tr th {\n",
       "        vertical-align: top;\n",
       "    }\n",
       "\n",
       "    .dataframe thead th {\n",
       "        text-align: right;\n",
       "    }\n",
       "</style>\n",
       "<table border=\"1\" class=\"dataframe\">\n",
       "  <thead>\n",
       "    <tr style=\"text-align: right;\">\n",
       "      <th></th>\n",
       "      <th>NAMA</th>\n",
       "      <th>TEKANAN_DARAH</th>\n",
       "      <th>BERAT_BADAN</th>\n",
       "    </tr>\n",
       "  </thead>\n",
       "  <tbody>\n",
       "    <tr>\n",
       "      <th>0</th>\n",
       "      <td>AIDA</td>\n",
       "      <td>129</td>\n",
       "      <td>57.0</td>\n",
       "    </tr>\n",
       "    <tr>\n",
       "      <th>1</th>\n",
       "      <td>ARIEF</td>\n",
       "      <td>115</td>\n",
       "      <td>80.0</td>\n",
       "    </tr>\n",
       "    <tr>\n",
       "      <th>2</th>\n",
       "      <td>ADI</td>\n",
       "      <td>60</td>\n",
       "      <td>75.0</td>\n",
       "    </tr>\n",
       "    <tr>\n",
       "      <th>3</th>\n",
       "      <td>JASMINE</td>\n",
       "      <td>58</td>\n",
       "      <td>78.0</td>\n",
       "    </tr>\n",
       "    <tr>\n",
       "      <th>4</th>\n",
       "      <td>LAELA</td>\n",
       "      <td>122</td>\n",
       "      <td>50.0</td>\n",
       "    </tr>\n",
       "    <tr>\n",
       "      <th>5</th>\n",
       "      <td>FIRDAUS</td>\n",
       "      <td>142</td>\n",
       "      <td>70.0</td>\n",
       "    </tr>\n",
       "    <tr>\n",
       "      <th>6</th>\n",
       "      <td>INSAN</td>\n",
       "      <td>148</td>\n",
       "      <td>51.0</td>\n",
       "    </tr>\n",
       "    <tr>\n",
       "      <th>7</th>\n",
       "      <td>HUSNI</td>\n",
       "      <td>143</td>\n",
       "      <td>45.0</td>\n",
       "    </tr>\n",
       "    <tr>\n",
       "      <th>8</th>\n",
       "      <td>FAQIH</td>\n",
       "      <td>108</td>\n",
       "      <td>90.0</td>\n",
       "    </tr>\n",
       "    <tr>\n",
       "      <th>9</th>\n",
       "      <td>DWI</td>\n",
       "      <td>138</td>\n",
       "      <td>88.0</td>\n",
       "    </tr>\n",
       "    <tr>\n",
       "      <th>10</th>\n",
       "      <td>RIZKI</td>\n",
       "      <td>107</td>\n",
       "      <td>71.0</td>\n",
       "    </tr>\n",
       "    <tr>\n",
       "      <th>11</th>\n",
       "      <td>EFENDI</td>\n",
       "      <td>104</td>\n",
       "      <td>55.0</td>\n",
       "    </tr>\n",
       "    <tr>\n",
       "      <th>12</th>\n",
       "      <td>ZAKY</td>\n",
       "      <td>148</td>\n",
       "      <td>NaN</td>\n",
       "    </tr>\n",
       "    <tr>\n",
       "      <th>13</th>\n",
       "      <td>LINDA</td>\n",
       "      <td>147</td>\n",
       "      <td>NaN</td>\n",
       "    </tr>\n",
       "    <tr>\n",
       "      <th>14</th>\n",
       "      <td>NaN</td>\n",
       "      <td>137</td>\n",
       "      <td>NaN</td>\n",
       "    </tr>\n",
       "    <tr>\n",
       "      <th>15</th>\n",
       "      <td>NaN</td>\n",
       "      <td>120</td>\n",
       "      <td>NaN</td>\n",
       "    </tr>\n",
       "  </tbody>\n",
       "</table>\n",
       "</div>"
      ],
      "text/plain": [
       "       NAMA  TEKANAN_DARAH  BERAT_BADAN\n",
       "0      AIDA            129         57.0\n",
       "1     ARIEF            115         80.0\n",
       "2       ADI             60         75.0\n",
       "3   JASMINE             58         78.0\n",
       "4     LAELA            122         50.0\n",
       "5   FIRDAUS            142         70.0\n",
       "6     INSAN            148         51.0\n",
       "7     HUSNI            143         45.0\n",
       "8     FAQIH            108         90.0\n",
       "9       DWI            138         88.0\n",
       "10    RIZKI            107         71.0\n",
       "11   EFENDI            104         55.0\n",
       "12     ZAKY            148          NaN\n",
       "13    LINDA            147          NaN\n",
       "14      NaN            137          NaN\n",
       "15      NaN            120          NaN"
      ]
     },
     "execution_count": 3,
     "metadata": {},
     "output_type": "execute_result"
    }
   ],
   "source": [
    "#eksperimen daong\n",
    "df= pd.read_csv(r\"C:\\Users\\ADVAN\\pkb\\data_tekanan_darah_fix.csv\")\n",
    "print(df.columns)\n",
    "df"
   ]
  },
  {
   "cell_type": "code",
   "execution_count": 4,
   "id": "87d3cb84",
   "metadata": {},
   "outputs": [
    {
     "name": "stdout",
     "output_type": "stream",
     "text": [
      "       NAMA  TEKANAN_DARAH  BERAT_BADAN  cluster\n",
      "0      AIDA            129         57.0        0\n",
      "1     ARIEF            115         80.0        2\n",
      "2       ADI             60         75.0        1\n",
      "3   JASMINE             58         78.0        1\n",
      "4     LAELA            122         50.0        0\n",
      "5   FIRDAUS            142         70.0        3\n",
      "6     INSAN            148         51.0        3\n",
      "7     HUSNI            143         45.0        3\n",
      "8     FAQIH            108         90.0        2\n",
      "9       DWI            138         88.0        2\n",
      "10    RIZKI            107         71.0        2\n",
      "11   EFENDI            104         55.0        0\n",
      "[[118.33333333  54.        ]\n",
      " [ 59.          76.5       ]\n",
      " [117.          82.25      ]\n",
      " [144.33333333  55.33333333]]\n"
     ]
    },
    {
     "name": "stderr",
     "output_type": "stream",
     "text": [
      "c:\\Users\\ADVAN\\anaconda3\\Lib\\site-packages\\joblib\\externals\\loky\\backend\\context.py:136: UserWarning: Could not find the number of physical cores for the following reason:\n",
      "[WinError 2] The system cannot find the file specified\n",
      "Returning the number of logical cores instead. You can silence this warning by setting LOKY_MAX_CPU_COUNT to the number of cores you want to use.\n",
      "  warnings.warn(\n",
      "  File \"c:\\Users\\ADVAN\\anaconda3\\Lib\\site-packages\\joblib\\externals\\loky\\backend\\context.py\", line 257, in _count_physical_cores\n",
      "    cpu_info = subprocess.run(\n",
      "        \"wmic CPU Get NumberOfCores /Format:csv\".split(),\n",
      "        capture_output=True,\n",
      "        text=True,\n",
      "    )\n",
      "  File \"c:\\Users\\ADVAN\\anaconda3\\Lib\\subprocess.py\", line 554, in run\n",
      "    with Popen(*popenargs, **kwargs) as process:\n",
      "         ~~~~~^^^^^^^^^^^^^^^^^^^^^^\n",
      "  File \"c:\\Users\\ADVAN\\anaconda3\\Lib\\subprocess.py\", line 1039, in __init__\n",
      "    self._execute_child(args, executable, preexec_fn, close_fds,\n",
      "    ~~~~~~~~~~~~~~~~~~~^^^^^^^^^^^^^^^^^^^^^^^^^^^^^^^^^^^^^^^^^\n",
      "                        pass_fds, cwd, env,\n",
      "                        ^^^^^^^^^^^^^^^^^^^\n",
      "    ...<5 lines>...\n",
      "                        gid, gids, uid, umask,\n",
      "                        ^^^^^^^^^^^^^^^^^^^^^^\n",
      "                        start_new_session, process_group)\n",
      "                        ^^^^^^^^^^^^^^^^^^^^^^^^^^^^^^^^^\n",
      "  File \"c:\\Users\\ADVAN\\anaconda3\\Lib\\subprocess.py\", line 1554, in _execute_child\n",
      "    hp, ht, pid, tid = _winapi.CreateProcess(executable, args,\n",
      "                       ~~~~~~~~~~~~~~~~~~~~~^^^^^^^^^^^^^^^^^^\n",
      "                             # no special security\n",
      "                             ^^^^^^^^^^^^^^^^^^^^^\n",
      "    ...<4 lines>...\n",
      "                             cwd,\n",
      "                             ^^^^\n",
      "                             startupinfo)\n",
      "                             ^^^^^^^^^^^^\n",
      "c:\\Users\\ADVAN\\anaconda3\\Lib\\site-packages\\sklearn\\cluster\\_kmeans.py:1419: UserWarning: KMeans is known to have a memory leak on Windows with MKL, when there are less chunks than available threads. You can avoid it by setting the environment variable OMP_NUM_THREADS=1.\n",
      "  warnings.warn(\n",
      "C:\\Users\\ADVAN\\AppData\\Local\\Temp\\ipykernel_12032\\40462952.py:6: SettingWithCopyWarning: \n",
      "A value is trying to be set on a copy of a slice from a DataFrame.\n",
      "Try using .loc[row_indexer,col_indexer] = value instead\n",
      "\n",
      "See the caveats in the documentation: https://pandas.pydata.org/pandas-docs/stable/user_guide/indexing.html#returning-a-view-versus-a-copy\n",
      "  df['cluster'] = y_predicted\n"
     ]
    }
   ],
   "source": [
    "df = df.dropna(subset= ['TEKANAN_DARAH', 'BERAT_BADAN'])\n",
    "# Clustering dengan K-Means\n",
    "km = KMeans(n_clusters=4, random_state=42)#melakukan pengelompokkan data menjadi 4 kelempok\n",
    "y_predicted = km.fit_predict(df[['TEKANAN_DARAH', 'BERAT_BADAN']])\n",
    "# penambahan kolom \"Cluster\" untuk menampilkan hasil klaster setiap data \n",
    "df['cluster'] = y_predicted\n",
    "\n",
    "df.head()\n",
    "print(df)\n",
    "# menampilkan nilai centrouid\n",
    "print(km.cluster_centers_)"
   ]
  },
  {
   "cell_type": "code",
   "execution_count": 5,
   "id": "df5136ec",
   "metadata": {},
   "outputs": [
    {
     "name": "stdout",
     "output_type": "stream",
     "text": [
      "      NAMA  TEKANAN_DARAH  BERAT_BADAN  cluster\n",
      "0     AIDA            129         57.0        0\n",
      "1    ARIEF            115         80.0        2\n",
      "2      ADI             60         75.0        1\n",
      "3  JASMINE             58         78.0        1\n",
      "4    LAELA            122         50.0        0\n",
      "\n",
      "Cluster Centers:\n",
      "[[118.33333333  54.        ]\n",
      " [ 59.          76.5       ]\n",
      " [117.          82.25      ]\n",
      " [144.33333333  55.33333333]]\n"
     ]
    },
    {
     "name": "stderr",
     "output_type": "stream",
     "text": [
      "c:\\Users\\ADVAN\\anaconda3\\Lib\\site-packages\\sklearn\\cluster\\_kmeans.py:1419: UserWarning: KMeans is known to have a memory leak on Windows with MKL, when there are less chunks than available threads. You can avoid it by setting the environment variable OMP_NUM_THREADS=1.\n",
      "  warnings.warn(\n"
     ]
    }
   ],
   "source": [
    "# pembenaran dari langkah ke 3\n",
    "import pandas as pd\n",
    "import matplotlib.pyplot as plt\n",
    "from sklearn.cluster import KMeans\n",
    "\n",
    "# Baca data\n",
    "path = r\"C:\\Users\\ADVAN\\pkb\\data_tekanan_darah_fix.csv\"\n",
    "df = pd.read_csv(path)\n",
    "df.columns = df.columns.str.strip()  # hapus spasi header\n",
    "\n",
    "# Pastikan kolom angka & tanpa missing value\n",
    "df = df.dropna(subset=['TEKANAN_DARAH', 'BERAT_BADAN'])\n",
    "\n",
    "# Clustering\n",
    "km = KMeans(n_clusters=4, random_state=42)\n",
    "y_predicted = km.fit_predict(df[['TEKANAN_DARAH', 'BERAT_BADAN']])\n",
    "df['cluster'] = y_predicted\n",
    "\n",
    "# Tampilkan hasil\n",
    "print(df.head())\n",
    "print(\"\\nCluster Centers:\")\n",
    "print(km.cluster_centers_)\n"
   ]
  },
  {
   "cell_type": "code",
   "execution_count": 6,
   "id": "853f1317",
   "metadata": {},
   "outputs": [
    {
     "data": {
      "text/plain": [
       "<function matplotlib.pyplot.show(close=None, block=None)>"
      ]
     },
     "execution_count": 6,
     "metadata": {},
     "output_type": "execute_result"
    },
    {
     "data": {
      "image/png": "[encoded data removed]",
      "text/plain": [
       "<Figure size 640x480 with 1 Axes>"
      ]
     },
     "metadata": {},
     "output_type": "display_data"
    }
   ],
   "source": [
    "# menampilkan histogram cluster\n",
    "plt.hist(df['cluster'])\n",
    "plt.title('Hub tekanan darah vs berat badan')\n",
    "plt.xlabel('Tekanan darah')\n",
    "plt.ylabel('Berat badan (kg)')\n",
    "plt.show"
   ]
  },
  {
   "cell_type": "code",
   "execution_count": 8,
   "id": "f5cc3cba",
   "metadata": {},
   "outputs": [
    {
     "data": {
      "image/png": "[encoded data removed]",
      "text/plain": [
       "<Figure size 640x480 with 1 Axes>"
      ]
     },
     "metadata": {},
     "output_type": "display_data"
    }
   ],
   "source": [
    "# visualisasi hasil clustering dengan scatter plot \n",
    "df1 = df[df.cluster==0]\n",
    "df2 = df[df.cluster==1]\n",
    "df3 = df[df.cluster==2]\n",
    "df4 = df[df.cluster==3]\n",
    "\n",
    "plt.title('Hub tekanan darah vs berat badan')\n",
    "plt.xlabel('Tekanan darah')\n",
    "plt.ylabel('Berat badan (kg)')\n",
    "plt.scatter(df1['TEKANAN_DARAH'],df1['BERAT_BADAN'] ,color = \"green\")\n",
    "plt.scatter(df2['TEKANAN_DARAH'],df2['BERAT_BADAN'] ,color = \"red\")\n",
    "plt.scatter(df3['TEKANAN_DARAH'],df3['BERAT_BADAN'] ,color = \"brown\")\n",
    "plt.scatter(df4['TEKANAN_DARAH'],df4['BERAT_BADAN'] ,color = \"blue\")\n",
    "plt.scatter(km.cluster_centers_[:,0], km.cluster_centers_[:,1], color='purple', marker= \"*\", s=200, label= 'Centroid')\n",
    "\n",
    "plt.legend()\n",
    "plt.show()"
   ]
  }
 ],
 "metadata": {
  "kernelspec": {
   "display_name": "base",
   "language": "python",
   "name": "python3"
  },
  "language_info": {
   "codemirror_mode": {
    "name": "ipython",
    "version": 3
   },
   "file_extension": ".py",
   "mimetype": "text/x-python",
   "name": "python",
   "nbconvert_exporter": "python",
   "pygments_lexer": "ipython3",
   "version": "3.13.5"
  }
 },
 "nbformat": 4,
 "nbformat_minor": 5
}
