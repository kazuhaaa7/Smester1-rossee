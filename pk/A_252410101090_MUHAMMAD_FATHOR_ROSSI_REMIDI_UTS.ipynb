{
 "cells": [
  {
   "cell_type": "markdown",
   "id": "15f3b2f7",
   "metadata": {},
   "source": [
    "<h1>Remidi Algoritma dan Pemograman</h1>"
   ]
  },
  {
   "cell_type": "markdown",
   "id": "88e250bf",
   "metadata": {},
   "source": [
    "<h2>No 1 </h2>"
   ]
  },
  {
   "cell_type": "code",
   "execution_count": 11,
   "id": "a37caae7",
   "metadata": {},
   "outputs": [
    {
     "name": "stdout",
     "output_type": "stream",
     "text": [
      "Total belanja : 35000.5\n"
     ]
    }
   ],
   "source": [
    "harga = [12000, 8000.5, 15000]\n",
    "ntotal = 0\n",
    "for i in range(len(harga)):\n",
    "    ntotal += harga[i]\n",
    "print(\"Total belanja :\", float(ntotal))\n"
   ]
  },
  {
   "cell_type": "markdown",
   "id": "86e226c8",
   "metadata": {},
   "source": [
    "<h2>No 2 </h2>"
   ]
  },
  {
   "cell_type": "code",
   "execution_count": 12,
   "id": "b8a4228b",
   "metadata": {},
   "outputs": [
    {
     "name": "stdout",
     "output_type": "stream",
     "text": [
      "RotiNaga\n"
     ]
    }
   ],
   "source": [
    "daftar = ['Roti Naga', 'Sup Elf', 'Roti Naga', 'Sup Elf', 'Roti Naga', 'Jus Phoenix']\n",
    "\n",
    "palingMenu = \"\"\n",
    "jumlahTerbanyak = 0 \n",
    "\n",
    "for item in set(daftar): \n",
    "    if daftar.count(item) > jumlahTerbanyak:\n",
    "        jumlahTerbanyak = daftar.count(item)\n",
    "        palingMenu = item\n",
    "        x = \"\".join(palingMenu.split(\" \")) \n",
    "print(x)"
   ]
  },
  {
   "cell_type": "markdown",
   "id": "c98a0257",
   "metadata": {},
   "source": [
    "<h2>No 3 </h2>"
   ]
  },
  {
   "cell_type": "code",
   "execution_count": 13,
   "id": "8e9b9582",
   "metadata": {},
   "outputs": [
    {
     "name": "stdout",
     "output_type": "stream",
     "text": [
      "4\n",
      "[4, 2, 2, 2]\n"
     ]
    }
   ],
   "source": [
    "hai = [\"apple\", \"banana\", \"apple\", \"cherry\", \"banana\", \"apple\", \"cherry\", \"orange\", \"orange\", \"apple\"]\n",
    "\n",
    "unik = []\n",
    "jumlah_kemunculan = []\n",
    "for i in hai:\n",
    "    if i not in unik:\n",
    "        unik.append(i)\n",
    "        jumlah_kemunculan.append(hai.count(i))\n",
    "\n",
    "print(len(unik))  \n",
    "print(jumlah_kemunculan)"
   ]
  },
  {
   "cell_type": "markdown",
   "id": "87160bcf",
   "metadata": {},
   "source": [
    "<h2>No 4 </h2>"
   ]
  },
  {
   "cell_type": "code",
   "execution_count": 14,
   "id": "7556fe97",
   "metadata": {},
   "outputs": [
    {
     "name": "stdout",
     "output_type": "stream",
     "text": [
      "\n",
      "*\n",
      "**\n",
      "###\n",
      "****\n",
      "*****\n",
      "######\n",
      "*******\n",
      "********\n",
      "#########\n",
      "**********\n"
     ]
    }
   ],
   "source": [
    "hai = 10\n",
    "for i in range(hai+ 1):\n",
    "    if i % 3 == 0:\n",
    "        print(\"#\" * i)\n",
    "    else:\n",
    "        print(\"*\" * i)"
   ]
  },
  {
   "cell_type": "markdown",
   "id": "d0952b89",
   "metadata": {},
   "source": [
    "<h2>No 5 </h2>"
   ]
  },
  {
   "cell_type": "code",
   "execution_count": 15,
   "id": "4cdf3bc2",
   "metadata": {},
   "outputs": [
    {
     "name": "stdout",
     "output_type": "stream",
     "text": [
      "rahasia - Sangat Lemah\n",
      "Admin123 - Sedang\n",
      "p4ssw0rd! - Kuat\n",
      "ADMIN - Sangat Lemah\n",
      "Rekapitulasi: \n",
      "Kuat: 1 \n",
      "Sedang: 1 \n",
      "Lemah: 0 \n",
      "Sangat Lemah: 2 \n"
     ]
    }
   ],
   "source": [
    "kataSandi = ['rahasia', 'Admin123', 'p4ssw0rd!', 'ADMIN']\n",
    "hasil_penilaian = []\n",
    "for inputKatasandi  in kataSandi:\n",
    "    mypoin = 0\n",
    "\n",
    "    if len(inputKatasandi) >= 8:\n",
    "        mypoin += 2\n",
    "\n",
    "    if any(char.isupper() for char in inputKatasandi):\n",
    "        mypoin += 1\n",
    "\n",
    "    if any(char.islower() for char in inputKatasandi):\n",
    "        mypoin += 1\n",
    "\n",
    "    if any(char.isdigit() for char in inputKatasandi):\n",
    "        mypoin += 1\n",
    "\n",
    "    if any(not char.isalnum() for char in inputKatasandi):\n",
    "        mypoin += 2\n",
    "\n",
    "\n",
    "    if mypoin >=6 :\n",
    "        kategori = \"Kuat\"\n",
    "    elif mypoin >=4 :\n",
    "        kategori = \"Sedang\"\n",
    "    elif mypoin >=2 :\n",
    "        kategori = \"Lemah\"\n",
    "    else:\n",
    "        kategori = \"Sangat Lemah\"\n",
    "\n",
    "    print(inputKatasandi, \"-\", kategori,)\n",
    "    hasil_penilaian.append(kategori)\n",
    "\n",
    "print(\"Rekapitulasi: \")\n",
    "print(f\"Kuat: {hasil_penilaian.count('Kuat')} \")\n",
    "print(f\"Sedang: {hasil_penilaian.count('Sedang')} \")\n",
    "print(f\"Lemah: {hasil_penilaian.count('Lemah')} \")\n",
    "print(f\"Sangat Lemah: {hasil_penilaian.count('Sangat Lemah')} \")"
   ]
  }
 ],
 "metadata": {
  "kernelspec": {
   "display_name": "base",
   "language": "python",
   "name": "python3"
  },
  "language_info": {
   "codemirror_mode": {
    "name": "ipython",
    "version": 3
   },
   "file_extension": ".py",
   "mimetype": "text/x-python",
   "name": "python",
   "nbconvert_exporter": "python",
   "pygments_lexer": "ipython3",
   "version": "3.13.5"
  }
 },
 "nbformat": 4,
 "nbformat_minor": 5
}
